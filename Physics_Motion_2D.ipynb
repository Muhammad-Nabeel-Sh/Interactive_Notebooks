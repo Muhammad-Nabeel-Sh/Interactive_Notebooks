{
 "cells": [
  {
   "cell_type": "markdown",
   "id": "7699670f-bfd3-4194-a16a-3f6981a14c61",
   "metadata": {},
   "source": [
    "# Motion in Two Dimensions"
   ]
  },
  {
   "cell_type": "markdown",
   "id": "2b02985c-3629-416e-8587-a8fe80fea399",
   "metadata": {
    "tags": []
   },
   "source": [
    "## Notations\n",
    "Position Vector $ \\vec{r_i} $  \n",
    "Displacement Vector $ \\Delta\\vec{r} $  \n",
    "Average Velocity $ \\vec{v}_{avg} $"
   ]
  },
  {
   "cell_type": "code",
   "execution_count": 33,
   "id": "5518e679",
   "metadata": {},
   "outputs": [
    {
     "name": "stdout",
     "output_type": "stream",
     "text": [
      "Setup Complete\n"
     ]
    }
   ],
   "source": [
    "from IPython.display import display, Latex\n",
    "import numpy as np\n",
    "import matplotlib.pyplot as plt\n",
    "%matplotlib inline\n",
    "import sympy as sp\n",
    "t = sp.symbols('t')\n",
    "sp.init_printing(use_latex=True)\n",
    "import seaborn as sns\n",
    "plt.style.use('ggplot')\n",
    "plt.rcParams[\"font.family\"] = \"serif\"\n",
    "# plt.rcParams[\"mathtext.fontset\"] = \"dejavuserif\"\n",
    "print(\"Setup Complete\")"
   ]
  },
  {
   "cell_type": "code",
   "execution_count": null,
   "id": "84521f31",
   "metadata": {},
   "outputs": [],
   "source": [
    "#Suppressing matplotlib warning\n",
    "import warnings\n",
    "import matplotlib.cbook\n",
    "warnings.filterwarnings(\"ignore\",category=matplotlib.cbook.mplDeprecation)"
   ]
  },
  {
   "cell_type": "markdown",
   "id": "b3ef5b5e",
   "metadata": {},
   "source": [
    "## Position Vector\n",
    "The position vector $\\overrightharpoon{r}(t)$ ,which is a function of time, is a vector that goes from the origin of the coordinate system to the position of object. We can describe the $x$ and $y$ components of position vector with independent functions, $x(t)$ and $y(t)$ that correspond to the x and y coordinates of the object at time $t$, respectively:\n",
    "$$\n",
    "\\overrightharpoon{r}(t) = \\begin{pmatrix}\n",
    "   x(t) \\\\\n",
    "   y(t)\n",
    "\\end{pmatrix}\n",
    "=x(t)\\hat{x} + y(t)\\hat{y}\n",
    "$$  \n",
    "\n",
    "## Displacement Vector  \n",
    "$$\n",
    "\\Delta \\overrightharpoon{r} = \\overrightharpoon{r_2} - \\overrightharpoon{r_1}\n",
    "$$"
   ]
  },
  {
   "cell_type": "code",
   "execution_count": 51,
   "id": "73a8cd0b",
   "metadata": {},
   "outputs": [
    {
     "data": {
      "text/latex": [
       "$ \\overrightharpoon{r_1} $ = [5.0, 6.3, 7.5]"
      ],
      "text/plain": [
       "<IPython.core.display.Latex object>"
      ]
     },
     "metadata": {},
     "output_type": "display_data"
    },
    {
     "data": {
      "text/latex": [
       "$ \\overrightharpoon{r_2} $ = [15.0, 20.0, 8.7]"
      ],
      "text/plain": [
       "<IPython.core.display.Latex object>"
      ]
     },
     "metadata": {},
     "output_type": "display_data"
    }
   ],
   "source": [
    "# Input vectors\n",
    "vctr1 = []\n",
    "vctr2 = []\n",
    "n = int(input(\"Dimensions of vect1\"))\n",
    "for i in range(0,n):\n",
    "    element = float(input())\n",
    "    vctr1.append(element)\n",
    "\n",
    "m = int(input(\"Dimensions of vect2\"))\n",
    "for i in range(0,m):\n",
    "    element = float(input())\n",
    "    vctr2.append(element)\n",
    "\n",
    "display(Latex(f'$ \\overrightharpoon{{r_1}} $ = {vctr1}'))\n",
    "display(Latex(f'$ \\overrightharpoon{{r_2}} $ = {vctr2}'))"
   ]
  },
  {
   "cell_type": "code",
   "execution_count": 52,
   "id": "b5ea87c4",
   "metadata": {},
   "outputs": [
    {
     "data": {
      "text/latex": [
       "$\\Delta r =$ 17.004"
      ],
      "text/plain": [
       "<IPython.core.display.Latex object>"
      ]
     },
     "metadata": {},
     "output_type": "display_data"
    }
   ],
   "source": [
    "displacement = ((vctr1[0]-vctr2[0])**2 + (vctr1[1]-vctr2[1])**2 + (vctr1[2]-vctr2[2])**2)**0.5\n",
    "display(Latex(f'$\\Delta r =$ {displacement:.3f}'))"
   ]
  }
 ],
 "metadata": {
  "kernelspec": {
   "display_name": "Python 3 (ipykernel)",
   "language": "python",
   "name": "python3"
  },
  "language_info": {
   "codemirror_mode": {
    "name": "ipython",
    "version": 3
   },
   "file_extension": ".py",
   "mimetype": "text/x-python",
   "name": "python",
   "nbconvert_exporter": "python",
   "pygments_lexer": "ipython3",
   "version": "3.9.7"
  }
 },
 "nbformat": 4,
 "nbformat_minor": 5
}
