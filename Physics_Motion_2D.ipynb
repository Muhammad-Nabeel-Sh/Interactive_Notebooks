{
 "cells": [
  {
   "cell_type": "markdown",
   "id": "7699670f-bfd3-4194-a16a-3f6981a14c61",
   "metadata": {},
   "source": [
    "# Motion in Two Dimensions"
   ]
  },
  {
   "cell_type": "markdown",
   "id": "2b02985c-3629-416e-8587-a8fe80fea399",
   "metadata": {
    "tags": []
   },
   "source": [
    "## Notations\n",
    "Position Vector $ \\vec{r_i} $  \n",
    "Displacement Vector $ \\Delta\\vec{r} $  \n",
    "Average Velocity $ \\vec{v}_{avg} $"
   ]
  },
  {
   "cell_type": "code",
   "execution_count": 1,
   "id": "5518e679",
   "metadata": {},
   "outputs": [
    {
     "name": "stdout",
     "output_type": "stream",
     "text": [
      "Setup Complete\n"
     ]
    }
   ],
   "source": [
    "from IPython.display import display\n",
    "import numpy as np\n",
    "import matplotlib.pyplot as plt\n",
    "%matplotlib inline\n",
    "import sympy as sp\n",
    "t = sp.symbols('t')\n",
    "sp.init_printing(use_latex=True)\n",
    "import seaborn as sns\n",
    "plt.style.use('ggplot')\n",
    "plt.rcParams[\"font.family\"] = \"serif\"\n",
    "# plt.rcParams[\"mathtext.fontset\"] = \"dejavuserif\"\n",
    "print(\"Setup Complete\")"
   ]
  },
  {
   "cell_type": "code",
   "execution_count": null,
   "id": "84521f31",
   "metadata": {},
   "outputs": [],
   "source": [
    "#Suppressing matplotlib warning\n",
    "import warnings\n",
    "import matplotlib.cbook\n",
    "warnings.filterwarnings(\"ignore\",category=matplotlib.cbook.mplDeprecation)"
   ]
  }
 ],
 "metadata": {
  "kernelspec": {
   "display_name": "Python 3 (ipykernel)",
   "language": "python",
   "name": "python3"
  },
  "language_info": {
   "codemirror_mode": {
    "name": "ipython",
    "version": 3
   },
   "file_extension": ".py",
   "mimetype": "text/x-python",
   "name": "python",
   "nbconvert_exporter": "python",
   "pygments_lexer": "ipython3",
   "version": "3.9.7"
  }
 },
 "nbformat": 4,
 "nbformat_minor": 5
}
