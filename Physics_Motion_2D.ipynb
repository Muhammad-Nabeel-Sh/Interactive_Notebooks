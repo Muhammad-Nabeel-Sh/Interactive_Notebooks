{
 "cells": [
  {
   "cell_type": "markdown",
   "id": "7699670f-bfd3-4194-a16a-3f6981a14c61",
   "metadata": {},
   "source": [
    "# Motion in Two Dimensions"
   ]
  },
  {
   "cell_type": "markdown",
   "id": "2b02985c-3629-416e-8587-a8fe80fea399",
   "metadata": {
    "tags": []
   },
   "source": [
    "## Notations\n",
    "Position Vector $ \\vec{r_i} $  \n",
    "Displacement Vector $ \\Delta\\vec{r} $  \n",
    "Average Velocity $ \\vec{v}_{avg} $"
   ]
  },
  {
   "cell_type": "code",
   "execution_count": null,
   "id": "40370b93-8639-4bf2-a015-94b6888b0a04",
   "metadata": {},
   "outputs": [],
   "source": []
  }
 ],
 "metadata": {
  "kernelspec": {
   "display_name": "Python 3 (ipykernel)",
   "language": "python",
   "name": "python3"
  },
  "language_info": {
   "codemirror_mode": {
    "name": "ipython",
    "version": 3
   },
   "file_extension": ".py",
   "mimetype": "text/x-python",
   "name": "python",
   "nbconvert_exporter": "python",
   "pygments_lexer": "ipython3",
   "version": "3.9.7"
  }
 },
 "nbformat": 4,
 "nbformat_minor": 5
}
