{
 "cells": [
  {
   "cell_type": "markdown",
   "metadata": {
    "id": "ezigYplI8yQF"
   },
   "source": [
    "# Triangles\n",
    "\n",
    "## Importing libraries"
   ]
  },
  {
   "cell_type": "code",
   "execution_count": null,
   "metadata": {
    "id": "A1SAR-z783qr"
   },
   "outputs": [],
   "source": [
    "from mpmath import *\n",
    "# from sympy import *\n",
    "# init_session()\n",
    "mp.dps = 7\n",
    "mp.pretty = True"
   ]
  },
  {
   "cell_type": "markdown",
   "metadata": {
    "id": "_EiYMWYVDRW5"
   },
   "source": [
    "## Existence of a Triangle\n",
    "\n",
    "- *Given*: three sides\n",
    "$$ a+b > c, \\hspace{1cm}  b+c > a, \\hspace{1cm} a+c > b $$\n",
    "$$ 2\\max{(a,b,c)} < a+b+c $$"
   ]
  },
  {
   "cell_type": "code",
   "execution_count": null,
   "metadata": {
    "colab": {
     "base_uri": "https://localhost:8080/"
    },
    "id": "K7od9PSE83VR",
    "outputId": "935340f6-d787-4909-cac7-3d02861b511c"
   },
   "outputs": [
    {
     "name": "stdout",
     "output_type": "stream",
     "text": [
      "a: 6\n",
      "b: 8\n",
      "c: 10\n",
      "True\n"
     ]
    }
   ],
   "source": [
    "side_1 = float(input(\"a: \"))\n",
    "side_2 = float(input(\"b: \"))\n",
    "side_3 = float(input(\"c: \"))\n",
    "def existence_of_triangle(side_1,side_2,side_3):\n",
    "  if max(side_1,side_2,side_3)*2 < (side_1+side_2+side_3):\n",
    "    print(True)\n",
    "  else:\n",
    "    print(False)\n",
    "\n",
    "existence_of_triangle(side_1,side_2,side_3)"
   ]
  },
  {
   "cell_type": "markdown",
   "metadata": {
    "id": "r-iNrVltv6sO"
   },
   "source": [
    "### Existence of a Right Triangle\n",
    "\n",
    "- *Given*: three sides\n",
    "$$ a^2+b^2 = c^2, \\hspace{1cm}  b^2+c^2 = a^2, \\hspace{1cm} a^2+c^2 = b^2 $$"
   ]
  },
  {
   "cell_type": "code",
   "execution_count": null,
   "metadata": {
    "colab": {
     "base_uri": "https://localhost:8080/"
    },
    "id": "Lv-TafdSwh57",
    "outputId": "83d18823-8680-492b-c1ce-ee2ef6d42cd8"
   },
   "outputs": [
    {
     "name": "stdout",
     "output_type": "stream",
     "text": [
      "a: 6\n",
      "b: 8\n",
      "c: 10\n",
      "True\n"
     ]
    }
   ],
   "source": [
    "side_1 = float(input(\"a: \"))\n",
    "side_2 = float(input(\"b: \"))\n",
    "side_3 = float(input(\"c: \"))\n",
    "def existence_of_right_triangle(side_1,side_2,side_3):\n",
    "  if (side_1)**2+(side_2)**2 == (side_3)**2  or (side_2)**2+(side_3)**2 == (side_1)**2  or (side_1)**2+(side_3)**2 == (side_2)**2:\n",
    "    print(True)\n",
    "  else:\n",
    "    print(False)\n",
    "\n",
    "existence_of_right_triangle(side_1,side_2,side_3)"
   ]
  },
  {
   "cell_type": "markdown",
   "metadata": {
    "id": "igyjhsklUQNe"
   },
   "source": [
    "## Type of Triangle based on Sides\n",
    "$$a=b=c \\; \\Rightarrow \\; \\text{Equilateral}$$\n",
    "$$(a=b \\; \\lor \\; b=c \\; \\lor \\; a=c) \\quad \\land \\quad \\lnot \\; (a=b=c) \\; \\Rightarrow \\; \\text{Isoceles}$$\n",
    "$$a \\neq b \\neq c \\; \\Rightarrow \\; \\text{Scalene}$$"
   ]
  },
  {
   "cell_type": "code",
   "execution_count": null,
   "metadata": {
    "colab": {
     "base_uri": "https://localhost:8080/"
    },
    "id": "HmyZxI6fUJVo",
    "outputId": "488fbfa3-681b-4be8-ac54-64d275e3da7a"
   },
   "outputs": [
    {
     "name": "stdout",
     "output_type": "stream",
     "text": [
      "a: 1\n",
      "b: 1\n",
      "c: 1.7\n",
      "Isosceles\n"
     ]
    }
   ],
   "source": [
    "side_1 = float(input(\"a: \"))\n",
    "side_2 = float(input(\"b: \"))\n",
    "side_3 = float(input(\"c: \"))\n",
    "def type_of_triangle(side_1,side_2,side_3):\n",
    "  if side_1 == side_2 == side_3:\n",
    "    print(\"Equilateral or isopleuron\")\n",
    "  elif (side_1 == side_2 or side_2 == side_3 or side_1 == side_3) and (not(side_1 == side_2 == side_3)):\n",
    "    print(\"Isosceles\") \n",
    "  else:\n",
    "    print(\"Scalene\")\n",
    "type_of_triangle(side_1,side_2,side_3)"
   ]
  },
  {
   "cell_type": "markdown",
   "metadata": {
    "id": "mv01j0JRJdW_"
   },
   "source": [
    "## Type of Triangle based on Angles\n",
    "Reverse of Pythagorean Theorem\n",
    "\n",
    "$$\n",
    "a^2 + b^2 = c^2 \\; \\Rightarrow \\; \\text{Right Triangle} \\\\\n",
    "a^2 + b^2 > c^2 \\; \\Rightarrow \\; \\text{Acute Triangle} \\\\\n",
    "a^2 + b^2 < c^2 \\; \\Rightarrow \\; \\text{Obtuse Triangle} \\\\\n",
    "$$"
   ]
  },
  {
   "cell_type": "code",
   "execution_count": null,
   "metadata": {
    "colab": {
     "base_uri": "https://localhost:8080/"
    },
    "id": "_zXdz59cVBbB",
    "outputId": "5d188796-79a0-4184-ab04-c3ca3c4229a2"
   },
   "outputs": [
    {
     "name": "stdout",
     "output_type": "stream",
     "text": [
      "a: 4\n",
      "b: 8\n",
      "c: 13\n",
      "Obtuse Triangle\n"
     ]
    }
   ],
   "source": [
    "side_1 = float(input(\"a: \"))\n",
    "side_2 = float(input(\"b: \"))\n",
    "side_3 = float(input(\"c: \"))\n",
    "def type_of_triangle_angles(side_1,side_2,side_3):\n",
    "  if (side_1 ** 2 ==  side_2 **2 + side_3 **2) or (side_2 ** 2 ==  side_1 **2 + side_3 **2) or (side_3 ** 2 ==  side_1 **2 + side_2 **2) :\n",
    "    print(\"Right Triangle\")\n",
    "  elif (side_1 ** 2 >  side_2 **2 + side_3 **2) or (side_2 ** 2 >  side_1 **2 + side_3 **2) or (side_3 ** 2 >  side_1 **2 + side_2 **2) :\n",
    "    print(\"Obtuse Triangle\")\n",
    "  else:\n",
    "    print(\"Acute Triangle\")\n",
    "type_of_triangle_angles(side_1,side_2,side_3)"
   ]
  },
  {
   "cell_type": "markdown",
   "metadata": {
    "id": "wQxwT2_HydJM"
   },
   "source": [
    "## SSS Theorem\n",
    "Heron's Formula\n",
    "$$\n",
    "Area = \\sqrt{s(s-a)(s-b)(s-c)} \\quad | \\quad s=\\frac{1}{2}(a+b+c) \n",
    "$$\n",
    "\n",
    "Using the law of cosines, the three angles can be calculated  \n",
    "\n",
    "$$\n",
    "\\alpha = \\arccos\\left({\\frac{b^2+c^2-a^2}{2bc}}\\right) \\\\\n",
    "\\beta = \\arccos\\left({\\frac{a^2+c^2-b^2}{2ac}}\\right) \\\\\n",
    "\\gamma = \\arccos\\left({\\frac{a^2+b^2-c^2}{2ab}}\\right)\n",
    "$$"
   ]
  },
  {
   "cell_type": "code",
   "execution_count": null,
   "metadata": {
    "colab": {
     "base_uri": "https://localhost:8080/"
    },
    "id": "_OD1UgkfNG7s",
    "outputId": "5711fb09-dc44-46ef-8fc8-4da1f81d5234"
   },
   "outputs": [
    {
     "name": "stdout",
     "output_type": "stream",
     "text": [
      "a: 3\n",
      "b: 4\n",
      "c: 5\n",
      "\n",
      "a: 3.0 \n",
      "b: 4.0 \n",
      "c: 5.0\n",
      "\n",
      "A or α: 0.6435011088 rad = 36.86989765 deg\n",
      "B or β: 0.927295218 rad = 53.13010235 deg\n",
      "C or γ: 1.570796327 rad = 90.0 deg\n",
      "\n",
      "A' or α': 0.6435011088 rad = 143.1301024 deg\n",
      "B' or β': 0.927295218 rad = 126.8698976 deg\n",
      "C' or γ': 1.570796327 rad = 90.0 deg\n",
      "\n",
      "Area: 6.0 \n",
      "Perimeter: 12.0 \n",
      "Semiperimeter: 6.0\n",
      "\n"
     ]
    }
   ],
   "source": [
    "side_1 = float(input(\"a: \"))\n",
    "side_2 = float(input(\"b: \"))\n",
    "side_3 = float(input(\"c: \"))\n",
    "\n",
    "def heron_area(side_1,side_2,side_3):\n",
    "  global Semiperimeter\n",
    "  Semiperimeter = 0.5 * (side_1+side_2+side_3)\n",
    "  global Area\n",
    "  Area = (Semiperimeter*(Semiperimeter-side_1)*(Semiperimeter-side_2)*(Semiperimeter-side_3))**0.5\n",
    "\n",
    "heron_area(side_1,side_2,side_3)\n",
    "\n",
    "def SSS_angles(side_1,side_2,side_3):\n",
    "  global angle_1, angle_2, angle_3\n",
    "  angle_1 = acos((side_2 ** 2 + side_3 ** 2 - side_1 ** 2)/(2 * side_2 * side_3))\n",
    "  angle_2 = acos((side_1 ** 2 + side_3 ** 2 - side_2 ** 2)/(2 * side_1 * side_3))\n",
    "  angle_3 = acos((side_1 ** 2 + side_2 ** 2 - side_3 ** 2)/(2 * side_1 * side_2))\n",
    "\n",
    "\n",
    "SSS_angles(side_1,side_2,side_3)\n",
    "\n",
    "print(f\"\\na: {side_1} \\nb: {side_2} \\nc: {side_3}\\n\")\n",
    "\n",
    "print(f\"A or α: {angle_1} rad = {degrees(angle_1)} deg\")\n",
    "print(f\"B or β: {angle_2} rad = {degrees(angle_2)} deg\")\n",
    "print(f\"C or γ: {angle_3} rad = {degrees(angle_3)} deg\\n\")\n",
    "\n",
    "print(f\"A\\' or α\\': {angle_1} rad = {180-degrees(angle_1)} deg\")\n",
    "print(f\"B\\' or β\\': {angle_2} rad = {180-degrees(angle_2)} deg\")\n",
    "print(f\"C\\' or γ\\': {angle_3} rad = {180-degrees(angle_3)} deg\\n\")\n",
    "\n",
    "print(f\"Area: {Area} \\nPerimeter: {Semiperimeter*2} \\nSemiperimeter: {Semiperimeter}\\n\")"
   ]
  },
  {
   "cell_type": "markdown",
   "metadata": {
    "id": "JEll6Q1bXKGU"
   },
   "source": [
    "## SAS \n",
    "$$\n",
    "Area=\\frac{1}{2}c\\;h=\\frac{1}{2}a\\;c\\;\\sin{\\beta}\\\\\n",
    "$$\n",
    "\n",
    "$$\n",
    "b^2=a^2+c^2-2a\\;c\\;\\cos{\\beta}\\\\\n",
    "$$\n",
    "\n",
    "$$\n",
    "b=\\sqrt{a^2+c^2-2a\\;c\\;\\cos{\\beta}}\n",
    "$$\n",
    "\n",
    "$$\n",
    "\\frac{a}{\\sin{\\alpha}}=\\frac{b}{\\sin{\\beta}}=\\frac{c}{\\sin{\\gamma}}\\\\\n",
    "$$\n",
    "\n",
    "$$\n",
    "\\alpha = \\arcsin{\\left(\\frac{a\\; \\sin{\\beta}}{\\sqrt{a^2+c^2-2a\\;c\\;\\cos{\\beta}}}\\right)}\n",
    "$$\n",
    "\n",
    "$$\n",
    "\\gamma = \\arcsin{\\left(\\frac{c\\; \\sin{\\beta}}{\\sqrt{a^2+c^2-2a\\;c\\;\\cos{\\beta}}}\\right)}\n",
    "$$"
   ]
  },
  {
   "cell_type": "code",
   "execution_count": null,
   "metadata": {
    "colab": {
     "base_uri": "https://localhost:8080/"
    },
    "id": "qMwPziQYT4wX",
    "outputId": "d8ac60d1-74ab-42a0-d2a0-5f7b39002686"
   },
   "outputs": [
    {
     "name": "stdout",
     "output_type": "stream",
     "text": [
      "a: 5\n",
      "c: 5\n",
      "β: 60\n",
      "\n",
      "a: 5.0\n",
      "b: 5.0\n",
      "c: 5.0\n",
      "\n",
      "A or α: 1.047198 rad = 60.0 deg\n",
      "B or β: 1.047198 rad = 60.0 deg\n",
      "C or γ: 1.047198 rad = 60.0 deg\n",
      "\n",
      "A' or α': 1.047198 rad = 120.0 deg\n",
      "B' or β': 1.047198 rad = 120.0 deg\n",
      "C' or γ': 1.047198 rad = 120.0 deg\n",
      "\n",
      "Area: 10.82532\n",
      "Perimeter: 15.0\n",
      "Semiperimeter: 7.5\n"
     ]
    }
   ],
   "source": [
    "side_1 = float(input(\"a: \"))\n",
    "side_3 = float(input(\"c: \"))\n",
    "angle_2 = float(input(\"β: \"))\n",
    "\n",
    "def SAS_Area(side_1,side_3,angle_2):\n",
    "  global Area\n",
    "  Area = 0.5 * side_1 * side_3 * sin(radians(angle_2))\n",
    "  return Area\n",
    "\n",
    "SAS_Area(side_1,side_3,angle_2)\n",
    "\n",
    "def SAS_Side(side_1,side_3,angle_2):\n",
    "  global side_2\n",
    "  side_2 = sqrt((side_1)**2+(side_3)**2 - 2*(side_1)*(side_3)*cos(radians(angle_2)))\n",
    "  global Perimeter\n",
    "  Perimeter = side_1 + side_2 + side_3\n",
    "  global Semiperimeter\n",
    "  Semiperimeter = Perimeter / 2\n",
    "  return side_2, Perimeter, Semiperimeter\n",
    "\n",
    "SAS_Side(side_1,side_3,angle_2)\n",
    "\n",
    "def SAS_Angles(side_1,side_3,angle_2):\n",
    "  side_2 = sqrt((side_1)**2+(side_3)**2 - 2*(side_1)*(side_3)*cos(radians(angle_2)))\n",
    "  global angle_1\n",
    "  angle_1 = asin((side_1 * sin(radians(angle_2)))/side_2)\n",
    "  global angle_3\n",
    "  angle_3 = asin((side_3 * sin(radians(angle_2)))/side_2)\n",
    "  return angle_1, angle_3\n",
    "\n",
    "SAS_Angles(side_1,side_3,angle_2)\n",
    "\n",
    "print(f\"\\na: {side_1}\")\n",
    "print(f\"b: {side_2}\")\n",
    "print(f\"c: {side_3}\\n\")\n",
    "\n",
    "print(f\"A or α: {angle_1} rad = {degrees(angle_1)} deg\")\n",
    "print(f\"B or β: {radians(angle_2)} rad = {angle_2} deg\")\n",
    "print(f\"C or γ: {angle_3} rad = {degrees(angle_3)} deg\\n\")\n",
    "print(f\"A\\' or α\\': {angle_1} rad = {180-degrees(angle_1)} deg\")\n",
    "print(f\"B\\' or β\\': {radians(angle_2)} rad = {180-(angle_2)} deg\")\n",
    "print(f\"C\\' or γ\\': {angle_3} rad = {180-degrees(angle_3)} deg\\n\")\n",
    "\n",
    "print(f\"Area: {Area}\")\n",
    "print(f\"Perimeter: {Perimeter}\")\n",
    "print(f\"Semiperimeter: {Semiperimeter}\")\n"
   ]
  },
  {
   "cell_type": "markdown",
   "metadata": {
    "id": "J1XOK55kO_nR"
   },
   "source": [
    "## ASA : A side and two adjacent angles\n",
    "$$\n",
    "\\gamma = \\pi - \\alpha - \\beta \n",
    "$$\n",
    "\n",
    "$$\n",
    "a = c \\cdot \\frac{\\sin{\\alpha}}{sin{\\gamma}} = c \\cdot \\frac{\\sin{\\alpha}}{sin{(\\pi - \\alpha - \\beta)}} \\\\\n",
    "$$\n",
    "\n",
    "$$\n",
    "b = c \\cdot \\frac{\\sin{\\beta}}{sin{\\gamma}} = c \\cdot \\frac{\\sin{\\beta}}{sin{(\\pi - \\alpha - \\beta)}} \\\\\n",
    "$$\n",
    "\n",
    "$$\n",
    "Area = \\frac{c^2\\cdot \\sin{\\alpha} \\cdot \\sin{\\beta}}{2\\sin{(\\alpha+\\beta)}}\n",
    "$$"
   ]
  },
  {
   "cell_type": "code",
   "execution_count": null,
   "metadata": {
    "colab": {
     "base_uri": "https://localhost:8080/"
    },
    "id": "h2Tt2dP3L8KS",
    "outputId": "2600b8f9-fee3-4dcf-8fe9-ec5af50566fb"
   },
   "outputs": [
    {
     "name": "stdout",
     "output_type": "stream",
     "text": [
      "α: 45\n",
      "β: 45\n",
      "c: 5\n",
      "\n",
      "a: 3.535534\n",
      "b: 3.535534\n",
      "c: 5.0\n",
      "\n",
      "A or α: 0.7853982 rad = 45.0 deg\n",
      "B or β: 0.7853982 rad = 45.0 deg\n",
      "C or γ: 1.570796 rad = 90.0 deg\n",
      "\n",
      "A' or α': 0.7853982 rad = 135.0 deg\n",
      "B' or β': 0.7853982 deg = 135.0 deg\n",
      "C' or γ': 1.570796 rad = 90.0 deg\n",
      "\n",
      "Area: 6.25\n",
      "Perimeter: 12.07107\n",
      "Semiperimeter: 6.035534\n"
     ]
    }
   ],
   "source": [
    "angle_1 = float(input(\"α: \"))\n",
    "angle_2 = float(input(\"β: \"))\n",
    "side_3  = float(input(\"c: \"))\n",
    "\n",
    "def ASA_angle(angle_1,angle_2,side_3):\n",
    "  global angle_3\n",
    "  angle_3 = pi - radians(angle_1) - radians(angle_2) \n",
    "  return angle_3\n",
    "\n",
    "ASA_angle(angle_1,angle_2,side_3)\n",
    "\n",
    "def ASA_Side(angle_1,angle_2,side_3):\n",
    "  global side_1, side_2\n",
    "  side_1 = (side_3 * sin(radians(angle_1)))/(sin(pi - radians(angle_1) - radians(angle_2)))\n",
    "  side_2 = (side_3 * sin(radians(angle_2)))/(sin(pi - radians(angle_1) - radians(angle_2)))\n",
    "  global Perimeter\n",
    "  Perimeter = side_1 + side_2 + side_3\n",
    "  global Semiperimeter\n",
    "  Semiperimeter = Perimeter / 2\n",
    "  return side_1, side_2, Perimeter, Semiperimeter\n",
    "\n",
    "ASA_Side(angle_1,angle_2,side_3)\n",
    "\n",
    "def ASA_Area(angle_1,angle_2,side_3):\n",
    "  global Area\n",
    "  Area = (((side_3)**2) * sin(radians(angle_1)) * sin(radians(angle_2))) / (2*sin(radians(angle_1 + angle_2)))\n",
    "  return Area\n",
    "\n",
    "ASA_Area(angle_1,angle_2,side_3)\n",
    "\n",
    "print(f\"\\na: {side_1}\")\n",
    "print(f\"b: {side_2}\")\n",
    "print(f\"c: {side_3}\\n\")\n",
    "\n",
    "print(f\"A or α: {radians(angle_1)} rad = {angle_1} deg\")\n",
    "print(f\"B or β: {radians(angle_2)} rad = {angle_2} deg\")\n",
    "print(f\"C or γ: {angle_3} rad = {degrees(angle_3)} deg\\n\")\n",
    "print(f\"A\\' or α\\': {radians(angle_1)} rad = {180-angle_1} deg\")\n",
    "print(f\"B\\' or β\\': {radians(angle_2)} deg = {180-angle_2} deg\")\n",
    "print(f\"C\\' or γ\\': {angle_3} rad = {180-degrees(angle_3)} deg\\n\")\n",
    "\n",
    "print(f\"Area: {Area}\")\n",
    "print(f\"Perimeter: {Perimeter}\")\n",
    "print(f\"Semiperimeter: {Semiperimeter}\")\n"
   ]
  },
  {
   "cell_type": "markdown",
   "metadata": {
    "id": "c21mCeWRyATA"
   },
   "source": [
    "## SSA Theorem: Two sides and Non-included Angle\n",
    "$$\n",
    "\\gamma = \\arcsin{\\left (\\frac{c \\cdot \\sin{B}}{b}\\right )} \\\\\n",
    "$$\n",
    "\n",
    "$$\n",
    "\\alpha = \\pi - \\beta - \\gamma\n",
    "$$\n",
    "\n",
    "$$\n",
    "a = b \\left ( \\frac{\\sin{\\alpha}}{\\sin{\\beta}} \\right ) \\\\ \n",
    "a = \\sqrt{b^2 + c^2 -2bc\\cos{\\alpha}} \\\\\n",
    "a = \\sqrt{b^2 + c^2 +2bc\\cos{(\\beta + \\gamma)}} \n",
    "$$\n",
    "\n",
    "$$\n",
    "b^2 = a^2 + c^2 -ac\\cos{\\beta} \\\\ \n",
    "a^2 - 2ac \\cos{\\beta} + c^2 - b^2\n",
    "$$\n",
    "Solving the quadratic equation\n",
    "\n",
    "$$\n",
    "a = \\frac{2c\\cos{\\beta}\\pm \\sqrt{4c^2\\cos^2{\\beta}-4c^2+4b^2}}{2} \\\\\n",
    "a = c\\cos{\\beta} \\pm  \\sqrt{b^2 - c^2 + c^2 \\cos^2{\\beta}} \\\\\n",
    "a = c\\cos{\\beta} \\pm  \\sqrt{b^2 - c^2 (1-\\cos^2{\\beta})} \\\\\n",
    "a = c\\cos{\\beta} \\pm  \\sqrt{b^2 - c^2 \\sin^2{\\beta}}\n",
    "$$"
   ]
  },
  {
   "cell_type": "code",
   "execution_count": null,
   "metadata": {
    "colab": {
     "base_uri": "https://localhost:8080/"
    },
    "id": "pChnYZiSYYzb",
    "outputId": "7d43fafa-03e7-4ec6-9ae8-0a7404e9a8c7"
   },
   "outputs": [
    {
     "name": "stdout",
     "output_type": "stream",
     "text": [
      "b: 5\n",
      "c: 5\n",
      "β: 50\n",
      "\n",
      "a: 6.427876\n",
      "b: 5.0\n",
      "c: 5.0\n",
      "\n",
      "A or α: 1.396263 rad = 80.0 deg\n",
      "B or β: 0.8726646 rad = 50.0 deg\n",
      "C or γ: 0.8726646 rad = 50.0 deg\n",
      "\n",
      "A' or α': 1.396263 rad = 100.0 deg\n",
      "B' or β': 0.8726646 rad = 130.0 deg\n",
      "C' or γ': 0.8726646 rad = 130.0 deg\n",
      "\n",
      "Area: 12.3101\n",
      "Perimeter: 15.0\n",
      "Semiperimeter: 7.5\n"
     ]
    }
   ],
   "source": [
    "side_2 = float(input(\"b: \"))\n",
    "side_3 = float(input(\"c: \"))\n",
    "angle_2 = radians(float(input(\"β: \")))\n",
    "\n",
    "def SSA_Angles(side_2,side_3,angle_2):\n",
    "  global angle_1, angle_3\n",
    "  angle_3 = asin((side_3 * sin(angle_2))/side_2)\n",
    "  angle_1 = pi - angle_2 - angle_3\n",
    "  return angle_1, angle_3\n",
    "\n",
    "SSA_Angles(side_2,side_3,angle_2)\n",
    "\n",
    "def SSA_Side(side_2,side_3,angle_2):\n",
    "  global side_1\n",
    "  side_1 = side_3 * cos(angle_2) + sqrt((side_2)**2 - ((side_3)**2) * (sin(angle_2)**2))\n",
    "  global Perimeter\n",
    "  Perimeter = side_2 + side_2 + side_3\n",
    "  global Semiperimeter\n",
    "  Semiperimeter = Perimeter / 2\n",
    "  global Area\n",
    "  Area = 0.5 * side_2 * side_3 * sin(angle_1)\n",
    "  return side_2, Perimeter, Semiperimeter, Area\n",
    "\n",
    "SSA_Side(side_2,side_3,angle_2)\n",
    "\n",
    "\n",
    "print(f\"\\na: {side_1}\")\n",
    "print(f\"b: {side_2}\")\n",
    "print(f\"c: {side_3}\\n\")\n",
    "\n",
    "print(f\"A or α: {angle_1} rad = {degrees(angle_1)} deg\")\n",
    "print(f\"B or β: {angle_2} rad = {degrees(angle_2)} deg\")\n",
    "print(f\"C or γ: {angle_3} rad = {degrees(angle_3)} deg\\n\")\n",
    "print(f\"A\\' or α\\': {angle_1} rad = {180-degrees(angle_1)} deg\")\n",
    "print(f\"B\\' or β\\': {angle_2} rad = {180-degrees(angle_2)} deg\")\n",
    "print(f\"C\\' or γ\\': {angle_3} rad = {180-degrees(angle_3)} deg\\n\")\n",
    "\n",
    "print(f\"Area: {Area}\")\n",
    "print(f\"Perimeter: {Perimeter}\")\n",
    "print(f\"Semiperimeter: {Semiperimeter}\")\n"
   ]
  },
  {
   "cell_type": "markdown",
   "metadata": {
    "id": "3Hc4E4DvyD-T"
   },
   "source": [
    "## AAS Theorem"
   ]
  },
  {
   "cell_type": "code",
   "execution_count": null,
   "metadata": {
    "id": "H9PS3FTUyITx"
   },
   "outputs": [],
   "source": []
  }
 ],
 "metadata": {
  "colab": {
   "authorship_tag": "ABX9TyPqjXoMuico/qQjq4tnHvtf",
   "collapsed_sections": [],
   "name": "Geometry_Calculator_Triangle.ipynb",
   "provenance": []
  },
  "kernelspec": {
   "display_name": "Python 3.10.5 64-bit",
   "language": "python",
   "name": "python3"
  },
  "language_info": {
   "codemirror_mode": {
    "name": "ipython",
    "version": 3
   },
   "file_extension": ".py",
   "mimetype": "text/x-python",
   "name": "python",
   "nbconvert_exporter": "python",
   "pygments_lexer": "ipython3",
   "version": "3.10.5"
  },
  "vscode": {
   "interpreter": {
    "hash": "369f2c481f4da34e4445cda3fffd2e751bd1c4d706f27375911949ba6bb62e1c"
   }
  }
 },
 "nbformat": 4,
 "nbformat_minor": 1
}
