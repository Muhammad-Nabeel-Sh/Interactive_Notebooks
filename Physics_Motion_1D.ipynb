{
 "cells": [
  {
   "cell_type": "markdown",
   "metadata": {},
   "source": [
    "# Motion in one dimension"
   ]
  },
  {
   "cell_type": "code",
   "execution_count": 42,
   "metadata": {},
   "outputs": [
    {
     "name": "stdout",
     "output_type": "stream",
     "text": [
      "Setup Complete\n"
     ]
    }
   ],
   "source": [
    "%matplotlib qt \n",
    "from IPython.display import display\n",
    "import numpy as np\n",
    "import matplotlib.pyplot as plt\n",
    "import sympy as sp\n",
    "t = symbols('t')\n",
    "init_printing(use_latex=True)\n",
    "import seaborn as sns\n",
    "plt.style.use('ggplot')\n",
    "print(\"Setup Complete\")"
   ]
  },
  {
   "cell_type": "code",
   "execution_count": 36,
   "metadata": {},
   "outputs": [],
   "source": [
    "#Suppressing matplotlib warning\n",
    "import warnings\n",
    "import matplotlib.cbook\n",
    "warnings.filterwarnings(\"ignore\",category=matplotlib.cbook.mplDeprecation)"
   ]
  },
  {
   "cell_type": "markdown",
   "metadata": {},
   "source": [
    "$$  v_{avg}=\\frac{\\Delta d}{\\Delta t}  $$\n",
    "$$  x(t)=x_0+\\int_0^t{v\\cdot dt}=x_0 + v_0 t + \\frac{1}{2}a \\cdot t^2 $$\n",
    "$$  v(t)= x'(t) = \\frac{dx}{dt}=v_0+\\int_0^t{a\\cdot dt}=v_0+a\\cdot t  $$\n",
    "$$  a(t)= v'(t) = x''(t) = \\frac{dv}{dt}=\\frac{d^2 x}{dt^2}  $$"
   ]
  },
  {
   "cell_type": "markdown",
   "metadata": {},
   "source": [
    "## Graphing functions\n",
    "### Input: $v_0$ and $a$"
   ]
  },
  {
   "cell_type": "code",
   "execution_count": 27,
   "metadata": {},
   "outputs": [],
   "source": [
    "initial_velocity = float(input(\"V_0= \"))\n",
    "acceleration = float(input(\"a= \"))\n",
    "time_x = np.linspace(0,10,100)\n",
    "velocity = initial_velocity + acceleration * time_x\n",
    "position = initial_velocity * time_x + velocity * time_x + 0.5 * acceleration * (time_x)**2\n",
    "acceleration = acceleration + 0*time_x\n",
    "\n",
    "fig1, (ax1,ax2,ax3) = plt.subplots(1,3,sharex=True)\n",
    "fig2, ax4 = plt.subplots()\n",
    "\n",
    "fig1.set_tight_layout('tight')\n",
    "fig1.suptitle(\"Position, Velocity and Acceleration as a function of time\")\n",
    "\n",
    "# ax1.set_title(\"Position, Velocity and Acceleration as a function of time\")\n",
    "ax1.set_xlabel(\"time(s)\")\n",
    "ax1.set_ylabel(\"Velocity(m/s)\")\n",
    "ax1.set_box_aspect(1)\n",
    "\n",
    "# ax2.set_title(\"Position as a function of time\")\n",
    "ax2.set_xlabel(\"time(s)\")\n",
    "ax2.set_ylabel(\"Position(m)\")\n",
    "ax2.set_box_aspect(1)\n",
    "\n",
    "# ax3.set_title(\"Acceleration as a function of time\")\n",
    "ax3.set_xlabel(\"time(s)\")\n",
    "ax3.set_ylabel(\"Acceleration(m/s/s)\")\n",
    "ax3.set_box_aspect(1)\n",
    "\n",
    "ax1.plot(time_x,position, label='Position(m)')\n",
    "ax2.plot(time_x,velocity, label='Velocity(m/s)')\n",
    "ax3.plot(time_x,acceleration, label='Acceleration(m/s/s)')\n",
    "\n",
    "ax4.plot(time_x,velocity, label='Velocity(m/s)')\n",
    "ax4.plot(time_x,position, label='Position(m)')\n",
    "ax4.plot(time_x,acceleration, label='Acceleration(m/s/s)')\n",
    "\n",
    "ax4.legend()\n",
    "\n",
    "plt.grid(True)\n",
    "plt.tight_layout()\n",
    "plt.show()"
   ]
  },
  {
   "cell_type": "markdown",
   "metadata": {},
   "source": [
    "### Input: $x(t)$ or $v(t)$ or $a(t)$"
   ]
  },
  {
   "cell_type": "code",
   "execution_count": 51,
   "metadata": {},
   "outputs": [
    {
     "name": "stdout",
     "output_type": "stream",
     "text": [
      "Position Function\n"
     ]
    },
    {
     "data": {
      "image/png": "[encoded data removed]",
      "text/latex": [
       "$\\displaystyle 4 t^{2} + 12$"
      ],
      "text/plain": [
       "   2     \n",
       "4⋅t  + 12"
      ]
     },
     "metadata": {},
     "output_type": "display_data"
    },
    {
     "name": "stdout",
     "output_type": "stream",
     "text": [
      "Velocity Function\n"
     ]
    },
    {
     "data": {
      "image/png": "[encoded data removed]",
      "text/latex": [
       "$\\displaystyle 8 t$"
      ],
      "text/plain": [
       "8⋅t"
      ]
     },
     "metadata": {},
     "output_type": "display_data"
    },
    {
     "name": "stdout",
     "output_type": "stream",
     "text": [
      "Acceleration Function\n"
     ]
    },
    {
     "data": {
      "image/png": "[encoded data removed]",
      "text/latex": [
       "$\\displaystyle 8$"
      ],
      "text/plain": [
       "8"
      ]
     },
     "metadata": {},
     "output_type": "display_data"
    }
   ],
   "source": [
    "position_function = input(\"Enter the position function in terms of t x(t)= \")\n",
    "position_argument = expand(position_function)\n",
    "print(\"Position Function\")\n",
    "display(position_argument)\n",
    "\n",
    "velocity_function = diff(position_function,t)\n",
    "print(\"Velocity Function\")\n",
    "display(velocity_function)\n",
    "\n",
    "acceleration_function = expand(diff(position_function,t,2))\n",
    "print(\"Acceleration Function\")\n",
    "display(acceleration_function)\n",
    "\n",
    "pos = plot(position_argument,(t,0,100), title=f\"x(t)={position_argument}\", ylabel='x(t)', show=False)\n",
    "vel = plot(velocity_function,(t,0,100), title=f\"v(t)={velocity_function}\", ylabel='v(t)', show=False)\n",
    "acc = plot(acceleration_function,(t,0,100), title=f\"a(t)={acceleration_function}\", ylabel='a(t)', show=False)\n",
    "\n",
    "plot_grid = sp.plotting.PlotGrid(1,3,pos,vel,acc, size=(15,6))\n",
    "plot_grid.show()"
   ]
  },
  {
   "cell_type": "code",
   "execution_count": 53,
   "metadata": {},
   "outputs": [
    {
     "name": "stdout",
     "output_type": "stream",
     "text": [
      "Velocity Function\n"
     ]
    },
    {
     "data": {
      "image/png": "[encoded data removed]",
      "text/latex": [
       "$\\displaystyle 5 t \\sin{\\left(t + 4 \\right)}$"
      ],
      "text/plain": [
       "5⋅t⋅sin(t + 4)"
      ]
     },
     "metadata": {},
     "output_type": "display_data"
    },
    {
     "name": "stdout",
     "output_type": "stream",
     "text": [
      "Acceleration Function\n"
     ]
    },
    {
     "data": {
      "image/png": "[encoded data removed]",
      "text/latex": [
       "$\\displaystyle 5 t \\cos{\\left(t + 4 \\right)} + 5 \\sin{\\left(t + 4 \\right)}$"
      ],
      "text/plain": [
       "5⋅t⋅cos(t + 4) + 5⋅sin(t + 4)"
      ]
     },
     "metadata": {},
     "output_type": "display_data"
    },
    {
     "name": "stdout",
     "output_type": "stream",
     "text": [
      "Position Function\n"
     ]
    },
    {
     "data": {
      "image/png": "[encoded data removed]",
      "text/latex": [
       "$\\displaystyle - 5 t \\cos{\\left(t + 4 \\right)} + 5 \\sin{\\left(t + 4 \\right)}$"
      ],
      "text/plain": [
       "-5⋅t⋅cos(t + 4) + 5⋅sin(t + 4)"
      ]
     },
     "metadata": {},
     "output_type": "display_data"
    }
   ],
   "source": [
    "velocity_function = input(\"Enter the velocity function in terms of t x(t)= \")\n",
    "velocity_argument = expand(velocity_function)\n",
    "print(\"Velocity Function\")\n",
    "display(velocity_argument)\n",
    "\n",
    "acceleration_function = expand(diff(velocity_function,t))\n",
    "print(\"Acceleration Function\")\n",
    "display(acceleration_function)\n",
    "\n",
    "position_function = expand(integrate(velocity_function,t))\n",
    "print(\"Position Function\")\n",
    "display(position_function)\n",
    "\n",
    "pos = plot(position_function,(t,0,100), title=f\"x(t)={position_function}\", ylabel='x(t)', show=False)\n",
    "vel = plot(velocity_argument,(t,0,100), title=f\"v(t)={velocity_argument}\", ylabel='v(t)', show=False)\n",
    "acc = plot(acceleration_function,(t,0,100), title=f\"a(t)={acceleration_function}\", ylabel='a(t)', show=False)\n",
    "\n",
    "plot_grid = sp.plotting.PlotGrid(1,3,pos,vel,acc, size=(15,6))\n",
    "plot_grid.show()"
   ]
  },
  {
   "cell_type": "code",
   "execution_count": 54,
   "metadata": {},
   "outputs": [
    {
     "name": "stdout",
     "output_type": "stream",
     "text": [
      "Acceleration Function\n"
     ]
    },
    {
     "data": {
      "image/png": "[encoded data removed]",
      "text/latex": [
       "$\\displaystyle 5$"
      ],
      "text/plain": [
       "5"
      ]
     },
     "metadata": {},
     "output_type": "display_data"
    },
    {
     "name": "stdout",
     "output_type": "stream",
     "text": [
      "Velocity Function\n"
     ]
    },
    {
     "data": {
      "image/png": "[encoded data removed]",
      "text/latex": [
       "$\\displaystyle 5 t$"
      ],
      "text/plain": [
       "5⋅t"
      ]
     },
     "metadata": {},
     "output_type": "display_data"
    },
    {
     "name": "stdout",
     "output_type": "stream",
     "text": [
      "Position Function\n"
     ]
    },
    {
     "data": {
      "image/png": "[encoded data removed]",
      "text/latex": [
       "$\\displaystyle \\frac{5 t^{2}}{2}$"
      ],
      "text/plain": [
       "   2\n",
       "5⋅t \n",
       "────\n",
       " 2  "
      ]
     },
     "metadata": {},
     "output_type": "display_data"
    }
   ],
   "source": [
    "acceleration_function = input(\"Enter the acceleration function in terms of t x(t)= \")\n",
    "acceleration_argument = expand(acceleration_function)\n",
    "print(\"Acceleration Function\")\n",
    "display(acceleration_argument)\n",
    "\n",
    "velocity_function = expand(integrate(acceleration_function,t))\n",
    "print(\"Velocity Function\")\n",
    "display(velocity_function)\n",
    "\n",
    "position_function = expand(integrate(velocity_function,t))\n",
    "print(\"Position Function\")\n",
    "display(position_function)\n",
    "\n",
    "pos = plot(position_function,(t,0,100), title=f\"x(t)={position_function}\", ylabel='x(t)', show=False)\n",
    "vel = plot(velocity_function,(t,0,100), title=f\"v(t)={velocity_function}\", ylabel='v(t)', show=False)\n",
    "acc = plot(acceleration_argument,(t,0,100), title=f\"a(t)={acceleration_argument}\", ylabel='a(t)', show=False)\n",
    "\n",
    "plot_grid = sp.plotting.PlotGrid(1,3,pos,vel,acc, size=(15,6))\n",
    "plot_grid.show()"
   ]
  }
 ],
 "metadata": {
  "interpreter": {
   "hash": "ac59ebe37160ed0dfa835113d9b8498d9f09ceb179beaac4002f036b9467c963"
  },
  "kernelspec": {
   "display_name": "Python 3.9.7 64-bit",
   "language": "python",
   "name": "python3"
  },
  "language_info": {
   "codemirror_mode": {
    "name": "ipython",
    "version": 3
   },
   "file_extension": ".py",
   "mimetype": "text/x-python",
   "name": "python",
   "nbconvert_exporter": "python",
   "pygments_lexer": "ipython3",
   "version": "3.9.7"
  },
  "orig_nbformat": 4
 },
 "nbformat": 4,
 "nbformat_minor": 2
}
