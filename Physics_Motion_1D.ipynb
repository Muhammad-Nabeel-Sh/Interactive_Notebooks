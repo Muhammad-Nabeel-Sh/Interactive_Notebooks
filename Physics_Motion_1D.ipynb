{
 "cells": [
  {
   "cell_type": "markdown",
   "metadata": {},
   "source": [
    "# Motion in one dimension"
   ]
  },
  {
   "cell_type": "code",
   "execution_count": 1,
   "metadata": {},
   "outputs": [
    {
     "name": "stdout",
     "output_type": "stream",
     "text": [
      "Setup Complete\n"
     ]
    }
   ],
   "source": [
    "%matplotlib qt \n",
    "import pandas as pd\n",
    "pd.plotting.register_matplotlib_converters()\n",
    "import numpy as np\n",
    "import matplotlib.pyplot as plt\n",
    "import seaborn as sns\n",
    "plt.style.use('ggplot')\n",
    "print(\"Setup Complete\")"
   ]
  },
  {
   "cell_type": "markdown",
   "metadata": {},
   "source": [
    "$$  v_{avg}=\\frac{\\Delta d}{\\Delta t}  $$\n",
    "$$  x(t)=x_0+\\int_0^t{v\\cdot dt}=x_0 + v_0 t + \\frac{1}{2}a \\cdot t^2 $$\n",
    "$$  v(t)= x'(t) = \\frac{dx}{dt}=v_0+\\int_0^t{a\\cdot dt}=v_0+a\\cdot t  $$\n",
    "$$  a(t)= v'(t) = x''(t) = \\frac{dv}{dt}=\\frac{d^2 x}{dt^2}  $$"
   ]
  },
  {
   "cell_type": "code",
   "execution_count": 15,
   "metadata": {},
   "outputs": [],
   "source": [
    "initial_velocity = float(input(\"V_0= \"))\n",
    "acceleration = float(input(\"a= \"))\n",
    "time_x = np.linspace(0,100)\n",
    "velocity = initial_velocity + acceleration * time_x\n",
    "position = initial_velocity * time_x + velocity * time_x + 0.5 * acceleration * (time_x)**2\n",
    "acceleration = acceleration + 0*time_x\n",
    "\n",
    "fig1, (ax1,ax2,ax3) = plt.subplots(1,3,sharex=True)\n",
    "fig2, ax4 = plt.subplots()\n",
    "\n",
    "fig1.set_tight_layout('tight')\n",
    "fig1.suptitle(\"Position, Velocity and Acceleration as a function of time\")\n",
    "\n",
    "# ax1.set_title(\"Position, Velocity and Acceleration as a function of time\")\n",
    "ax1.set_xlabel(\"time(s)\")\n",
    "ax1.set_ylabel(\"Velocity(m/s)\")\n",
    "ax1.set_box_aspect(1)\n",
    "\n",
    "# ax2.set_title(\"Position as a function of time\")\n",
    "ax2.set_xlabel(\"time(s)\")\n",
    "ax2.set_ylabel(\"Position(m)\")\n",
    "ax2.set_box_aspect(1)\n",
    "\n",
    "# ax3.set_title(\"Acceleration as a function of time\")\n",
    "ax3.set_xlabel(\"time(s)\")\n",
    "ax3.set_ylabel(\"Acceleration(m/s/s)\")\n",
    "ax3.set_box_aspect(1)\n",
    "\n",
    "ax1.plot(time_x,position, label='Position(m)')\n",
    "ax2.plot(time_x,velocity, label='Velocity(m/s)')\n",
    "ax3.plot(time_x,acceleration, label='Acceleration(m/s/s)')\n",
    "\n",
    "ax4.plot(time_x,velocity, label='Velocity(m/s)')\n",
    "ax4.plot(time_x,position, label='Position(m)')\n",
    "ax4.plot(time_x,acceleration, label='Acceleration(m/s/s)')\n",
    "\n",
    "ax4.legend()\n",
    "\n",
    "plt.grid(True)\n",
    "plt.tight_layout()\n",
    "plt.show()"
   ]
  },
  {
   "cell_type": "code",
   "execution_count": null,
   "metadata": {},
   "outputs": [],
   "source": []
  }
 ],
 "metadata": {
  "interpreter": {
   "hash": "ac59ebe37160ed0dfa835113d9b8498d9f09ceb179beaac4002f036b9467c963"
  },
  "kernelspec": {
   "display_name": "Python 3.9.7 64-bit",
   "language": "python",
   "name": "python3"
  },
  "language_info": {
   "codemirror_mode": {
    "name": "ipython",
    "version": 3
   },
   "file_extension": ".py",
   "mimetype": "text/x-python",
   "name": "python",
   "nbconvert_exporter": "python",
   "pygments_lexer": "ipython3",
   "version": "3.9.7"
  },
  "orig_nbformat": 4
 },
 "nbformat": 4,
 "nbformat_minor": 2
}
