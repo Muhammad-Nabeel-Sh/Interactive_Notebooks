{
 "cells": [
  {
   "cell_type": "markdown",
   "metadata": {},
   "source": [
    "# Motion in one dimension"
   ]
  },
  {
   "cell_type": "code",
   "execution_count": 9,
   "metadata": {},
   "outputs": [
    {
     "name": "stdout",
     "output_type": "stream",
     "text": [
      "Setup Complete\n"
     ]
    }
   ],
   "source": [
    "%matplotlib qt \n",
    "import pandas as pd\n",
    "pd.plotting.register_matplotlib_converters()\n",
    "import numpy as np\n",
    "import matplotlib.pyplot as plt\n",
    "import seaborn as sns\n",
    "plt.style.use('ggplot')\n",
    "print(\"Setup Complete\")"
   ]
  },
  {
   "cell_type": "code",
   "execution_count": 17,
   "metadata": {},
   "outputs": [],
   "source": [
    "initial_velocity = float(input(\"V_0= \"))\n",
    "acceleration = float(input(\"a= \"))\n",
    "time_x = np.linspace(0,100,100)\n",
    "velocity = initial_velocity + acceleration * time_x\n",
    "position = initial_velocity * time_x + velocity * time_x + 0.5 * acceleration * (time_x)**2\n",
    "acceleration = acceleration + 0*time_x\n",
    "\n",
    "fig, (ax1, ax2, ax3) = plt.subplots(nrows=1, ncols=3)\n",
    "\n",
    "ax1.set_title(\"Velocity and Acceleration as a function of time\")\n",
    "ax1.set_xlabel(\"time(s)\")\n",
    "ax1.set_ylabel(\"Position(m)\")\n",
    "\n",
    "ax2.set_title(\"Position as a function of time\")\n",
    "ax2.set_xlabel(\"time(s)\")\n",
    "ax2.set_ylabel(\"Position(m)\")\n",
    "\n",
    "ax3.set_title(\"Acceleration as a function of time\")\n",
    "ax3.set_xlabel(\"time(s)\")\n",
    "ax3.set_ylabel(\"Position(m)\")\n",
    "\n",
    "ax1.plot(time_x,acceleration, label='Acceleration(m/s/s)')\n",
    "ax1.plot(time_x,velocity, label='Velocity(m/s)')\n",
    "ax2.plot(time_x,position, label='Position(m)')\n",
    "ax3.plot(time_x,acceleration, label='Acceleration(m/s/s)')\n",
    "\n",
    "ax1.legend()\n",
    "ax2.legend()\n",
    "\n",
    "plt.grid(True)\n",
    "plt.tight_layout()\n",
    "plt.show()"
   ]
  },
  {
   "cell_type": "code",
   "execution_count": 12,
   "metadata": {},
   "outputs": [
    {
     "data": {
      "image/png": "[encoded data removed]",
      "text/plain": [
       "<Figure size 432x288 with 1 Axes>"
      ]
     },
     "metadata": {
      "needs_background": "light"
     },
     "output_type": "display_data"
    }
   ],
   "source": [
    "dev_x = [35,36,45,56,71]\n",
    "dev_y = [350,358,560,450,1200]\n",
    "plt.plot(dev_x,dev_y)\n",
    "plt.show()"
   ]
  },
  {
   "cell_type": "code",
   "execution_count": null,
   "metadata": {},
   "outputs": [],
   "source": []
  }
 ],
 "metadata": {
  "interpreter": {
   "hash": "ac59ebe37160ed0dfa835113d9b8498d9f09ceb179beaac4002f036b9467c963"
  },
  "kernelspec": {
   "display_name": "Python 3.9.7 64-bit",
   "language": "python",
   "name": "python3"
  },
  "language_info": {
   "codemirror_mode": {
    "name": "ipython",
    "version": 3
   },
   "file_extension": ".py",
   "mimetype": "text/x-python",
   "name": "python",
   "nbconvert_exporter": "python",
   "pygments_lexer": "ipython3",
   "version": "3.9.7"
  },
  "orig_nbformat": 4
 },
 "nbformat": 4,
 "nbformat_minor": 2
}
