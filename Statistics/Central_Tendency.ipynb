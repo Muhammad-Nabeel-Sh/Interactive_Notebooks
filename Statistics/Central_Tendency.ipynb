{
 "cells": [
  {
   "attachments": {},
   "cell_type": "markdown",
   "metadata": {},
   "source": [
    "# Measures of Central Tendency "
   ]
  },
  {
   "attachments": {},
   "cell_type": "markdown",
   "metadata": {},
   "source": [
    "## **Mean**\n",
    "For a given dataset $ X = \\{x_1,x_2,...,x_n \\}$  \n",
    "### Notation \n",
    "- Sample Mean $\\bar{X}$\n",
    "- Population Mean $\\mu$  \n",
    "### Arithmetic Mean \n",
    "$$ {\\color{yellow}{\\bar{X}}} \\text{ or } {\\color{yellow}{\\mu}} = \\frac{1}{n}\\sum_{i=1}^n x_i = \\frac{x_1+x_2+...+x_n}{n}  $$  \n",
    "\n",
    "### Weighted Arithmetic Mean (Weighted Average) \n",
    "For a non-empty finite tuple of data $ \\{x_1,x_2,...,x_n \\}$ with the corresponding non-negative weights $ \\{w_1,w_2,...,w_n \\}$  $$ {\\color{yellow}{\\bar{X}}} \\text{ or } {\\color{yellow}{\\mu}} = \\frac{\\sum_{i=1}^n w_i x_i}{\\sum_{i=1}^n w_i} = \\frac{w_1 x_1 + w_2 x_2 + ... + w_n x_n}{w_1 + w_2 + ... + w_n}  $$\n",
    "- Normalizing weights so that they sum up to 1 $$ w_i' =\\frac{w_i}{\\sum_{i=1}^{n}w_i} \\implies \\sum_{i=1}^{n}w_i'=1   $$ $$ {\\color{yellow}{\\bar{X}}} \\text{ or } {\\color{yellow}{\\mu}} =  \\sum_{i=1}^{n}w_i' \\cdot x_i $$"
   ]
  },
  {
   "attachments": {},
   "cell_type": "markdown",
   "metadata": {},
   "source": [
    "## **Median**\n",
    "- If $ n $ is odd $$ \\text{median}(x) = \\dfrac{x_{n+1}}{2} $$  \n",
    "\n",
    "- If $ n $ is even $$ \\text{median}(x) = \\dfrac{x_{\\frac{n}{2}}+x_{\\frac{n+1}{2}}}{2} $$\n",
    "$$ P(X\\leq m)=\\dfrac{1}{2}, \\quad P(X\\geq m)=\\dfrac{1}{2}$$"
   ]
  },
  {
   "attachments": {},
   "cell_type": "markdown",
   "metadata": {},
   "source": [
    "## **Mode**\n",
    "The value at which the probability mass function takes its maximum value $$ x = \\text{argmax}_{x_i} P(X=x_i) $$"
   ]
  },
  {
   "cell_type": "code",
   "execution_count": 12,
   "metadata": {},
   "outputs": [],
   "source": [
    "import statistics\n",
    "import pandas as pd\n",
    "import numpy as np\n",
    "import matplotlib.pyplot as plt\n",
    "import seaborn as sns"
   ]
  },
  {
   "cell_type": "code",
   "execution_count": 3,
   "metadata": {},
   "outputs": [
    {
     "data": {
      "text/html": [
       "<div>\n",
       "<style scoped>\n",
       "    .dataframe tbody tr th:only-of-type {\n",
       "        vertical-align: middle;\n",
       "    }\n",
       "\n",
       "    .dataframe tbody tr th {\n",
       "        vertical-align: top;\n",
       "    }\n",
       "\n",
       "    .dataframe thead th {\n",
       "        text-align: right;\n",
       "    }\n",
       "</style>\n",
       "<table border=\"1\" class=\"dataframe\">\n",
       "  <thead>\n",
       "    <tr style=\"text-align: right;\">\n",
       "      <th></th>\n",
       "      <th>Name</th>\n",
       "      <th>Age</th>\n",
       "      <th>Rating</th>\n",
       "    </tr>\n",
       "  </thead>\n",
       "  <tbody>\n",
       "    <tr>\n",
       "      <th>0</th>\n",
       "      <td>Raj</td>\n",
       "      <td>21</td>\n",
       "      <td>4.17</td>\n",
       "    </tr>\n",
       "    <tr>\n",
       "      <th>1</th>\n",
       "      <td>Sham</td>\n",
       "      <td>22</td>\n",
       "      <td>3.89</td>\n",
       "    </tr>\n",
       "    <tr>\n",
       "      <th>2</th>\n",
       "      <td>Tusar</td>\n",
       "      <td>24</td>\n",
       "      <td>3.63</td>\n",
       "    </tr>\n",
       "    <tr>\n",
       "      <th>3</th>\n",
       "      <td>Ram</td>\n",
       "      <td>28</td>\n",
       "      <td>5.00</td>\n",
       "    </tr>\n",
       "    <tr>\n",
       "      <th>4</th>\n",
       "      <td>Jaggu</td>\n",
       "      <td>19</td>\n",
       "      <td>1.98</td>\n",
       "    </tr>\n",
       "    <tr>\n",
       "      <th>5</th>\n",
       "      <td>Karishma</td>\n",
       "      <td>18</td>\n",
       "      <td>1.03</td>\n",
       "    </tr>\n",
       "    <tr>\n",
       "      <th>6</th>\n",
       "      <td>Pranab</td>\n",
       "      <td>20</td>\n",
       "      <td>2.36</td>\n",
       "    </tr>\n",
       "    <tr>\n",
       "      <th>7</th>\n",
       "      <td>Shami</td>\n",
       "      <td>32</td>\n",
       "      <td>4.00</td>\n",
       "    </tr>\n",
       "    <tr>\n",
       "      <th>8</th>\n",
       "      <td>Chahal</td>\n",
       "      <td>32</td>\n",
       "      <td>3.92</td>\n",
       "    </tr>\n",
       "    <tr>\n",
       "      <th>9</th>\n",
       "      <td>Dhoni</td>\n",
       "      <td>35</td>\n",
       "      <td>4.88</td>\n",
       "    </tr>\n",
       "    <tr>\n",
       "      <th>10</th>\n",
       "      <td>Sachin</td>\n",
       "      <td>42</td>\n",
       "      <td>4.99</td>\n",
       "    </tr>\n",
       "    <tr>\n",
       "      <th>11</th>\n",
       "      <td>Bumrah</td>\n",
       "      <td>29</td>\n",
       "      <td>4.23</td>\n",
       "    </tr>\n",
       "  </tbody>\n",
       "</table>\n",
       "</div>"
      ],
      "text/plain": [
       "        Name  Age  Rating\n",
       "0        Raj   21    4.17\n",
       "1       Sham   22    3.89\n",
       "2      Tusar   24    3.63\n",
       "3        Ram   28    5.00\n",
       "4      Jaggu   19    1.98\n",
       "5   Karishma   18    1.03\n",
       "6     Pranab   20    2.36\n",
       "7      Shami   32    4.00\n",
       "8     Chahal   32    3.92\n",
       "9      Dhoni   35    4.88\n",
       "10    Sachin   42    4.99\n",
       "11    Bumrah   29    4.23"
      ]
     },
     "execution_count": 3,
     "metadata": {},
     "output_type": "execute_result"
    }
   ],
   "source": [
    "d = {'Name':pd.Series(['Raj','Sham','Tusar','Ram','Jaggu','Karishma','Pranab',\n",
    "'Shami','Chahal','Dhoni','Sachin','Bumrah']),\n",
    "'Age':pd.Series([21,22,24,28,19,18,20,32,32,35,42,29]),\n",
    "'Rating':pd.Series([4.17,3.89,3.63,5.00,1.98,1.03,2.36,4.00,3.92,4.88,4.99,4.23])}\n",
    "database_1 = pd.DataFrame(d)\n",
    "database_1"
   ]
  },
  {
   "cell_type": "code",
   "execution_count": 4,
   "metadata": {},
   "outputs": [
    {
     "name": "stdout",
     "output_type": "stream",
     "text": [
      "Max Age =  42\n",
      "Min Age =  18\n",
      "First Quartile =  20.75\n",
      "Median Age =  26.0\n",
      "Third Quartile =  32.0\n",
      "InterQuartile Range =  11.25\n"
     ]
    }
   ],
   "source": [
    "print(\"Max Age = \",database_1['Age'].max())\n",
    "print(\"Min Age = \",database_1['Age'].min())\n",
    "print(\"First Quartile = \",np.percentile(database_1['Age'],25))\n",
    "print(\"Median Age = \",database_1['Age'].median())\n",
    "print(\"Third Quartile = \",np.percentile(database_1['Age'],75))\n",
    "print(\"InterQuartile Range = \",np.percentile(database_1['Age'],75)-np.percentile(database_1['Age'],25))"
   ]
  },
  {
   "cell_type": "code",
   "execution_count": 14,
   "metadata": {},
   "outputs": [
    {
     "data": {
      "text/plain": [
       "<Axes: >"
      ]
     },
     "execution_count": 14,
     "metadata": {},
     "output_type": "execute_result"
    },
    {
     "data": {
      "image/png": "[encoded data removed]",
      "text/plain": [
       "<Figure size 640x480 with 1 Axes>"
      ]
     },
     "metadata": {},
     "output_type": "display_data"
    }
   ],
   "source": [
    "# sns.histplot(database_1[\"Age\"])\n",
    "sns.boxplot(database_1[\"Age\"])"
   ]
  },
  {
   "cell_type": "code",
   "execution_count": null,
   "metadata": {},
   "outputs": [],
   "source": []
  }
 ],
 "metadata": {
  "kernelspec": {
   "display_name": "Python 3",
   "language": "python",
   "name": "python3"
  },
  "language_info": {
   "codemirror_mode": {
    "name": "ipython",
    "version": 3
   },
   "file_extension": ".py",
   "mimetype": "text/x-python",
   "name": "python",
   "nbconvert_exporter": "python",
   "pygments_lexer": "ipython3",
   "version": "3.10.10"
  },
  "orig_nbformat": 4,
  "vscode": {
   "interpreter": {
    "hash": "369f2c481f4da34e4445cda3fffd2e751bd1c4d706f27375911949ba6bb62e1c"
   }
  }
 },
 "nbformat": 4,
 "nbformat_minor": 2
}
