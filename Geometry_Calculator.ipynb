{
  "nbformat": 4,
  "nbformat_minor": 0,
  "metadata": {
    "colab": {
      "name": "Geometry_Calculator.ipynb",
      "provenance": [],
      "collapsed_sections": [],
      "authorship_tag": "ABX9TyM5hQIw+M9wgs9PVcBdzOmh",
      "include_colab_link": true
    },
    "kernelspec": {
      "name": "python3",
      "display_name": "Python 3"
    },
    "language_info": {
      "name": "python"
    }
  },
  "cells": [
    {
      "cell_type": "markdown",
      "metadata": {
        "id": "view-in-github",
        "colab_type": "text"
      },
      "source": [
        "<a href=\"https://colab.research.google.com/github/Muhammad-Nabeel-Sh/Maths_Interactive_Notebooks/blob/main/Geometry_Calculator.ipynb\" target=\"_parent\"><img src=\"https://colab.research.google.com/assets/colab-badge.svg\" alt=\"Open In Colab\"/></a>"
      ]
    },
    {
      "cell_type": "markdown",
      "metadata": {
        "id": "ezigYplI8yQF"
      },
      "source": [
        "# Geometry Calculator\n",
        "\n",
        "## Importing libraries"
      ]
    },
    {
      "cell_type": "code",
      "metadata": {
        "id": "A1SAR-z783qr",
        "colab": {
          "base_uri": "https://localhost:8080/"
        },
        "outputId": "1d753504-dfe0-4646-ff3e-6969577f9dd4"
      },
      "source": [
        "from mpmath import mp \n",
        "from sympy import *\n",
        "init_session()"
      ],
      "execution_count": 2,
      "outputs": [
        {
          "output_type": "stream",
          "name": "stdout",
          "text": [
            "IPython console for SymPy 1.7.1 (Python 3.7.12-64-bit) (ground types: python)\n",
            "\n",
            "These commands were executed:\n",
            ">>> from __future__ import division\n",
            ">>> from sympy import *\n",
            ">>> x, y, z, t = symbols('x y z t')\n",
            ">>> k, m, n = symbols('k m n', integer=True)\n",
            ">>> f, g, h = symbols('f g h', cls=Function)\n",
            ">>> init_printing()\n",
            "\n",
            "Documentation can be found at https://docs.sympy.org/1.7.1/\n",
            "\n"
          ]
        }
      ]
    },
    {
      "cell_type": "markdown",
      "metadata": {
        "id": "_EiYMWYVDRW5"
      },
      "source": [
        "## Triangles\n",
        "\n",
        "### Existence of a Triangle\n",
        "\n",
        "- *Given*: three sides\n",
        "$$ a+b > c, \\hspace{1cm}  b+c > a, \\hspace{1cm} a+c > b $$\n",
        "$$ 2\\max{(a,b,c)} < a+b+c $$"
      ]
    },
    {
      "cell_type": "code",
      "metadata": {
        "id": "K7od9PSE83VR",
        "colab": {
          "base_uri": "https://localhost:8080/"
        },
        "outputId": "624d393b-254e-42a5-8ee3-0b642cbc37ca"
      },
      "source": [
        "side_1 = float(input(\"a: \"))\n",
        "side_2 = float(input(\"b: \"))\n",
        "side_3 = float(input(\"c: \"))\n",
        "def existence_of_triangle(side_1,side_2,side_3):\n",
        "  if max(side_1,side_2,side_3)*2 < (side_1+side_2+side_3):\n",
        "    print(True)\n",
        "  else:\n",
        "    print(False)\n",
        "\n",
        "existence_of_triangle(side_1,side_2,side_3)"
      ],
      "execution_count": 1,
      "outputs": [
        {
          "output_type": "stream",
          "name": "stdout",
          "text": [
            "a: 8\n",
            "b: 6\n",
            "c: 12\n",
            "True\n"
          ]
        }
      ]
    },
    {
      "cell_type": "markdown",
      "metadata": {
        "id": "r-iNrVltv6sO"
      },
      "source": [
        "### Existence of a Right Triangle\n",
        "\n",
        "- *Given*: three sides\n",
        "$$ a^2+b^2 = c^2, \\hspace{1cm}  b^2+c^2 = a^2, \\hspace{1cm} a^2+c^2 = b^2 $$"
      ]
    },
    {
      "cell_type": "code",
      "metadata": {
        "colab": {
          "base_uri": "https://localhost:8080/"
        },
        "id": "Lv-TafdSwh57",
        "outputId": "ccec8f32-3675-4ed3-d406-198dabbbcaa6"
      },
      "source": [
        "side_1 = float(input(\"a: \"))\n",
        "side_2 = float(input(\"b: \"))\n",
        "side_3 = float(input(\"c: \"))\n",
        "def existence_of_right_triangle(side_1,side_2,side_3):\n",
        "  if (side_1)**2+(side_2)**2 == (side_3)**2  or (side_2)**2+(side_3)**2 == (side_1)**2  or (side_1)**2+(side_3)**2 == (side_2)**2:\n",
        "    print(True)\n",
        "  else:\n",
        "    print(False)\n",
        "\n",
        "existence_of_right_triangle(side_1,side_2,side_3)"
      ],
      "execution_count": null,
      "outputs": [
        {
          "output_type": "stream",
          "name": "stdout",
          "text": [
            "a: 4\n",
            "b: 5\n",
            "c: 6\n",
            "False\n"
          ]
        }
      ]
    }
  ]
}