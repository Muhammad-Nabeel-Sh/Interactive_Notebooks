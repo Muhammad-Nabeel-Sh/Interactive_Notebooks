{
 "cells": [
  {
   "cell_type": "markdown",
   "id": "dda15e08-8fc5-49f2-b49c-df243c906a57",
   "metadata": {},
   "source": [
    "# Vectors\n",
    "## Terminology"
   ]
  },
  {
   "cell_type": "markdown",
   "id": "27f75996",
   "metadata": {},
   "source": [
    "## Notation\n",
    "- Vectors are represented in lowercase boldface $\\mathbf{u}, \\mathbf{v}$ or $\\vec{u}, \\vec{v}$\n",
    "- Unit vectors dentoed by a lowercase letter with a circumflex, or hat $\\hat{i} , \\hat{j}, \\hat{k}$"
   ]
  },
  {
   "cell_type": "markdown",
   "id": "20f059e9-6bff-4288-b90f-458f3733fa02",
   "metadata": {},
   "source": [
    "## Basic Concepts\n",
    "- A two-dimensional vector v is an ordered pair of real numbers, denoted in **component form** as $\\langle a,b \\rangle$\n",
    "- Vectors are represented as **directed line segments** with an initial point and terminal point.\n",
    "- Two vectors are equal if their corresponding directed line segments are equivalent (the same length and direction).\n",
    "- If $\\mathbf{v}$ is a vector in the plane equal to the vector with initial point $(0,0)$ and terminal point $(v_1,v_2)$, then the component form of $\\mathbf{v}$ is\n",
    "$$ \\mathbf{v} =  \\langle v_1,v_2 \\rangle $$\n",
    "- The vector $\\langle v_1,v_2 \\rangle$ is called the **position vector** of the point $(v_1,v_2)$\n",
    "- The vector $\\mathbf{v} = \\overrightarrow{PQ}$ determined by $P(x_1,y_1)$ and $Q(x_2,y_2)$ is \n",
    "$$\\mathbf{v} = \\langle v_1,v_2 \\rangle = \\langle x_2-x_1,y_2-y_1\\rangle$$\n",
    "- Vector Norm\n",
    "$$ |\\mathbf{v}| \\text{ or } ||\\mathbf{u}||= \\sqrt{v_1^2+v_2^2} = \\sqrt{(x_2-x_1)^2+(y_2-y_1)^2} $$\n",
    "- Zero vector $\\mathbf{0}= \\langle 0,0 \\rangle$\n",
    "- Unit Vector: a vector of length 1 (Normalizing a vector)\n",
    "$$ \\hat{\\mathbf{v}} = \\dfrac{\\mathbf{v}}{|\\mathbf{v}|} = \\dfrac{1}{|\\mathbf{v}|} \\mathbf{v}$$\n",
    "- Standard unit vectors \n",
    "$$\\mathbf{i} = \\langle u_1,u_2 \\rangle , \\mathbf{j} = \\langle u_1,u_2 \\rangle$$\n",
    "$$ {\\color{yellow}\\hat{\\textbf{\\i}}}= \\begin{bmatrix} 1 \\\\ 0 \\\\ 0  \\end{bmatrix} \\quad \n",
    "{\\color{yellow}\\hat{\\textbf{\\j}}} = \\begin{bmatrix} 0 \\\\ 1 \\\\ 0  \\end{bmatrix} \\quad \n",
    "{\\color{yellow}\\hat{\\textbf{k}}} = \\begin{bmatrix} 0 \\\\ 0 \\\\ 1  \\end{bmatrix} $$\n",
    "- Linear combination\n",
    "$$  \\begin{aligned}\n",
    "    \\mathbf{v} &= \\langle a,b \\rangle \\\\&= \\langle a,0 \\rangle + \\langle 0,b \\rangle \\\\&= a\\langle 1,0 \\rangle + b\\langle 0,1 \\rangle \\\\&= a\\mathbf{i} + b\\mathbf{j}\n",
    "    \\end {aligned} $$\n",
    "The scalars a and b are the horizontal and vertical components\n",
    "- Direction Angles\n",
    "$$ \\mathbf{v} = (|\\mathbf{v}|\\cos{\\theta}){\\color{yellow}\\hat{\\textbf{\\i}}} +(|\\mathbf{v}|\\sin{\\theta}){\\color{yellow}\\hat{\\textbf{\\j}}} $$\n",
    "$$ \\hat{\\mathbf{v}} = \\dfrac{\\mathbf{v}}{|\\mathbf{v}|} = (\\cos{\\theta}){\\color{yellow}\\hat{\\textbf{\\i}}} +(\\sin{\\theta}){\\color{yellow}\\hat{\\textbf{\\j}}} $$"
   ]
  },
  {
   "cell_type": "markdown",
   "id": "181ee044",
   "metadata": {},
   "source": [
    "## Vector Operations\n",
    "- Vector Addition\n",
    "$$ \\mathbf{u} + \\mathbf{v} = \\langle u_1,u_2 \\rangle + \\langle v_1,v_2 \\rangle = \\langle u_1+v_1,u_2+v_2 \\rangle $$\n",
    "$$ (a{\\color{yellow}{\\hat{i}}}+ b{\\color{yellow}{\\hat{j}}}) + (c{\\color{yellow}{\\hat{i}}}+ d{\\color{yellow}{\\hat{j}}}) = (a+c){\\color{yellow}{\\hat{i}}} + (b+d){\\color{yellow}{\\hat{j}}}$$\n",
    "- Scalar Multiplication\n",
    "$$ k\\mathbf{u} = k\\langle u_1,u_2 \\rangle = \\langle ku_1,ku_2 \\rangle $$\n",
    "Stretch or Shrink for $k>0$  \n",
    "If $k<0$, then there is a stretch or shrink by the factor $|k|$ and the direction of $k\\cdot \\mathbf{u}$ is opposite to that of $\\mathbf{u}$"
   ]
  },
  {
   "cell_type": "code",
   "execution_count": 4,
   "id": "a7cc823b-cf6a-463e-bf78-15fa351a590d",
   "metadata": {},
   "outputs": [
    {
     "name": "stdout",
     "output_type": "stream",
     "text": [
      "ans = 134\n"
     ]
    }
   ],
   "source": [
    "A = [10 5 3];\n",
    "A*A'"
   ]
  },
  {
   "cell_type": "code",
   "execution_count": 5,
   "id": "a6f7e46e-e622-483f-baea-e4d2bef381ac",
   "metadata": {},
   "outputs": [
    {
     "name": "stdout",
     "output_type": "stream",
     "text": [
      "ans =\n",
      "\n",
      "   26.6667   11.6667    5.6667\n",
      "   28.3333   13.3333    7.3333\n",
      "   29.0000   14.0000    8.0000\n",
      "\n"
     ]
    }
   ],
   "source": [
    "A + 2*A - A'/3"
   ]
  },
  {
   "cell_type": "code",
   "execution_count": 6,
   "id": "7f9d6db7-600a-4b36-a25f-992d4c0a8771",
   "metadata": {},
   "outputs": [
    {
     "name": "stdout",
     "output_type": "stream",
     "text": [
      "Enter a matrix: [1, 2, 3;2, 3, 1]\n",
      "B =\n",
      "\n",
      "   1   2   3\n",
      "   2   3   1\n",
      "\n"
     ]
    }
   ],
   "source": [
    "B = input(\"Enter a matrix: \")"
   ]
  },
  {
   "cell_type": "code",
   "execution_count": 9,
   "id": "0fb86674-728c-4ddc-a2ff-c1f9b06db130",
   "metadata": {},
   "outputs": [
    {
     "name": "stdout",
     "output_type": "stream",
     "text": [
      "ans =\n",
      "\n",
      "Diagonal Matrix\n",
      "\n",
      "   1\n",
      "   0\n",
      "\n"
     ]
    }
   ],
   "source": [
    "eye(size(B*A'))"
   ]
  },
  {
   "cell_type": "code",
   "execution_count": 13,
   "id": "b1df71ac-4d4c-4211-a0d7-e5c1428e3fbf",
   "metadata": {},
   "outputs": [
    {
     "name": "stdout",
     "output_type": "stream",
     "text": [
      "Variables visible from the current scope:\n",
      "\n",
      "variables in scope: top scope\n",
      "\n",
      "  Attr   Name        Size                     Bytes  Class\n",
      "  ====   ====        ====                     =====  ===== \n",
      "         A           1x3                         24  double\n",
      "         B           2x3                         48  double\n",
      "         ans         2x1                          8  double\n",
      "\n",
      "Total is 11 elements using 80 bytes\n",
      "\n"
     ]
    }
   ],
   "source": [
    "whos"
   ]
  },
  {
   "cell_type": "code",
   "execution_count": 14,
   "id": "4866c78c-a6eb-4bbe-805c-af0a493ecf80",
   "metadata": {},
   "outputs": [
    {
     "name": "stdout",
     "output_type": "stream",
     "text": [
      "ans =\n",
      "\n",
      "   10   10    9\n",
      "   20   15    3\n",
      "\n"
     ]
    }
   ],
   "source": [
    "A.*B"
   ]
  },
  {
   "cell_type": "markdown",
   "id": "7c87eb4e",
   "metadata": {},
   "source": [
    "# Matrices"
   ]
  },
  {
   "cell_type": "markdown",
   "id": "0fc9b4e0",
   "metadata": {},
   "source": [
    "## Binary Operations\n",
    "- Addition `A+B`\n",
    "- Subtraction `A-B`\n",
    "- Matrix Multiplication `A*B`\n",
    "- Element-wise Multiplication `A.*B`\n",
    "- Matrix right division `A/B`\n",
    "- Element-wise right division `A./B`\n",
    "- Matrix left division `A\\B`\n",
    "- Element-wise left division `A.\\B`\n",
    "- Comparison `A==B` `A~=B`"
   ]
  },
  {
   "cell_type": "markdown",
   "id": "f21b57a9",
   "metadata": {},
   "source": [
    "## Linear Transformations"
   ]
  },
  {
   "cell_type": "code",
   "execution_count": 10,
   "id": "263743a0-bc24-4e62-80d1-1ad29a498516",
   "metadata": {},
   "outputs": [
    {
     "name": "stdin",
     "output_type": "stream",
     "text": [
      "enter the x-factor: 3\n",
      "enter the y-factor: 4\n",
      "enter the z-factor: 1\n"
     ]
    },
    {
     "name": "stdout",
     "output_type": "stream",
     "text": [
      "stretch_x =\n",
      "\n",
      "   3   0   0\n",
      "   0   4   0\n",
      "   0   0   1\n",
      "\n"
     ]
    }
   ],
   "source": [
    "x_factor = input(\"enter the x-factor: \");\n",
    "y_factor = input(\"enter the y-factor: \");\n",
    "z_factor = input(\"enter the z-factor: \");\n",
    "stretch_x = [x_factor 0 0;0 y_factor 0;0 0 z_factor]"
   ]
  },
  {
   "cell_type": "code",
   "execution_count": null,
   "id": "474605d1-19f6-4102-a11a-3e25f6a152d1",
   "metadata": {},
   "outputs": [],
   "source": []
  }
 ],
 "metadata": {
  "kernelspec": {
   "display_name": "Octave",
   "language": "octave",
   "name": "octave"
  },
  "language_info": {
   "file_extension": ".m",
   "help_links": [
    {
     "text": "GNU Octave",
     "url": "https://www.gnu.org/software/octave/support.html"
    },
    {
     "text": "Octave Kernel",
     "url": "https://github.com/Calysto/octave_kernel"
    },
    {
     "text": "MetaKernel Magics",
     "url": "https://metakernel.readthedocs.io/en/latest/source/README.html"
    }
   ],
   "mimetype": "text/x-octave",
   "name": "octave",
   "version": "7.2.0"
  },
  "vscode": {
   "interpreter": {
    "hash": "369f2c481f4da34e4445cda3fffd2e751bd1c4d706f27375911949ba6bb62e1c"
   }
  }
 },
 "nbformat": 4,
 "nbformat_minor": 5
}
