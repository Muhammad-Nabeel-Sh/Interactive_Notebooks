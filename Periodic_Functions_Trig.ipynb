{
 "cells": [
  {
   "cell_type": "markdown",
   "id": "8fa0da80",
   "metadata": {},
   "source": [
    "# Periodic Functions and Trigonometry\n",
    "$$\n",
    "f(x) = f(x+l) = f(x+2l)=\\; ...\n",
    "$$"
   ]
  },
  {
   "cell_type": "code",
   "execution_count": 2,
   "id": "95a6d01f",
   "metadata": {},
   "outputs": [
    {
     "name": "stdout",
     "output_type": "stream",
     "text": [
      "Mpmath settings:\n",
      "  mp.prec = 20                [default: 53]\n",
      "  mp.dps = 5                  [default: 15]\n",
      "  mp.trap_complex = False     [default: False]\n"
     ]
    }
   ],
   "source": [
    "from mpmath import *\n",
    "import IPython\n",
    "from IPython.display import display, Latex\n",
    "# from sympy import *\n",
    "# init_session()\n",
    "mp.dps = 5\n",
    "mp.pretty = True\n",
    "print(mp)\n",
    "# from fractions import Fraction"
   ]
  },
  {
   "cell_type": "code",
   "execution_count": 3,
   "id": "54eb323d",
   "metadata": {},
   "outputs": [],
   "source": [
    "#Defining symbols used in string formatting\n",
    "deg_symb = chr(176)\n",
    "gon = chr(7501)\n",
    "pi_symb = chr(960)\n",
    "theta_symb = chr(952)"
   ]
  },
  {
   "cell_type": "markdown",
   "id": "1a079c60",
   "metadata": {
    "tags": []
   },
   "source": [
    "## **Angles**\n",
    "### Degrees, Radians and Gradians\n",
    "$$\n",
    "\\frac{\\theta^{\\circ}}{360^{\\circ}}=\\frac{\\theta^{rad}}{2\\pi}=\\frac{\\theta^g}{400}\n",
    "$$\n",
    "\n",
    "### Decimal Degrees **DD** and Degrees, Minutes, Seconds **DMS**\n",
    "$$\n",
    "dd = d + \\frac{m}{60} + \\frac{s}{3600}\n",
    "$$\n",
    "$$\n",
    "d = integer(dd) \\\\\n",
    "dm = (dd - d)\\times 60 \\\\\n",
    "m = integer(dm) \\\\\n",
    "s = (dd - d - \\frac{m}{60})\\times 3600\n",
    "$$"
   ]
  },
  {
   "cell_type": "code",
   "execution_count": 8,
   "id": "5f84723b",
   "metadata": {},
   "outputs": [
    {
     "name": "stdout",
     "output_type": "stream",
     "text": [
      "dd: 75.389°\n",
      "ddm: 75° 23.340'\n",
      "dms: 75° 23' 20.400\" \n",
      "radians: 1.315786361694336 = 0.419π\n",
      "gradians: 83.766ᵍ\n"
     ]
    }
   ],
   "source": [
    "# DD to DMS, rad , grad\n",
    "dd = float(input(\"Enter a decimal degree: \"))\n",
    "def given_dd(dd):\n",
    "    print(f\"dd: {dd}{deg_symb}\")\n",
    "    deg = int(dd)\n",
    "    dm = float((dd-deg)*60)\n",
    "    minutes = int(dm)\n",
    "    seconds = float((dd-deg-(minutes/60))*3600)\n",
    "    print(f\"ddm: {deg}{deg_symb} {dm:.3f}'\")\n",
    "    print(f\"dms: {deg}{deg_symb} {minutes}' {seconds:.3f}\\\" \")\n",
    "    rad = float((2*pi*dd)/360)\n",
    "    rad_pi = float(rad/pi)\n",
    "    print(f\"radians: {rad} = {rad_pi:.3f}{pi_symb}\")\n",
    "    grad = float((400*dd)/360)\n",
    "    print(f\"gradians: {grad:.3f}{gon}\")\n",
    "\n",
    "given_dd(dd)"
   ]
  },
  {
   "cell_type": "code",
   "execution_count": 5,
   "id": "a50dea6d",
   "metadata": {},
   "outputs": [
    {
     "name": "stdout",
     "output_type": "stream",
     "text": [
      "dms: 35° 12' 45.5\" \n",
      "ddm: 35.0° ,12.758'\n",
      "dd: 35.213°\n",
      "radians: 0.6145763397216797 = 0.196π\n",
      "gradians: 39.125ᵍ\n"
     ]
    }
   ],
   "source": [
    "# DMS to DD, rad , grad\n",
    "deg = float(input(\"degree: \"))\n",
    "minutes = float(input(\"minutes: \"))\n",
    "seconds = float(input(\"seconds: \"))\n",
    "def given_dms(deg,minutes,seconds):\n",
    "    print(f\"dms: {int(deg)}{deg_symb} {int(minutes)}' {seconds}\\\" \")\n",
    "    dm = minutes + (seconds/60)\n",
    "    dd = deg + (minutes/60) + (seconds/3600) \n",
    "    print(f\"ddm: {deg}{deg_symb} ,{dm:.3f}'\")\n",
    "    print(f\"dd: {dd:.3f}{deg_symb}\")\n",
    "    rad = float((2*pi*dd)/360)\n",
    "    rad_pi = float(rad/pi)\n",
    "    print(f\"radians: {rad} = {rad_pi:.3f}{pi_symb}\")\n",
    "    grad = float((400*dd)/360)\n",
    "    print(f\"gradians: {grad:.3f}{gon}\")\n",
    "\n",
    "given_dms(deg,minutes,seconds)"
   ]
  },
  {
   "cell_type": "code",
   "execution_count": 9,
   "id": "598b9968-2051-4ba1-a2c5-3626ba8574ea",
   "metadata": {
    "tags": []
   },
   "outputs": [
    {
     "name": "stdout",
     "output_type": "stream",
     "text": [
      "radians: 1.77 = 0.563π\n",
      "gradians: 112.682ᵍ\n",
      "dd: 101.413°\n",
      "ddm: 101° 24.807'\n",
      "dms: 101° 24' 48.428\" \n"
     ]
    }
   ],
   "source": [
    "#rad to grad, DMS and DD\n",
    "rad = float(input(\"Radian angle: \"))\n",
    "def given_rad(rad):\n",
    "    rad_pi = float(rad/pi)\n",
    "    print(f\"radians: {rad} = {rad_pi:.3f}{pi_symb}\")\n",
    "    grad = float((400*rad)/(2*pi))\n",
    "    print(f\"gradians: {grad:.3f}{gon}\")\n",
    "    dd = float((360*rad)/(2*pi))\n",
    "    print(f\"dd: {dd:.3f}{deg_symb}\")\n",
    "    deg = int(dd)\n",
    "    dm = float((dd-deg)*60)\n",
    "    minutes = int(dm)\n",
    "    seconds = float((dd-deg-(minutes/60))*3600)\n",
    "    print(f\"ddm: {deg}{deg_symb} {dm:.3f}'\")\n",
    "    print(f\"dms: {deg}{deg_symb} {minutes}' {seconds:.3f}\\\" \")\n",
    "\n",
    "given_rad(rad)"
   ]
  },
  {
   "cell_type": "code",
   "execution_count": 10,
   "id": "e9080d52-e529-42eb-9135-c194956fb57a",
   "metadata": {},
   "outputs": [
    {
     "name": "stdout",
     "output_type": "stream",
     "text": [
      "\n",
      "radians: 1.5707969665527344 = 0.500π\n",
      "gradians: 100.000ᵍ\n",
      "dd: 90.000°\n",
      "ddm: 90° 0.000'\n",
      "dms: 90° 0' 0.000\" \n"
     ]
    }
   ],
   "source": [
    "#pi-rad to grad, DMS and DD\n",
    "rad_pi = float(input(f\"Radian angle: ... {pi_symb} \"))\n",
    "def given_rad_pi(rad_pi):\n",
    "    rad = float(rad_pi * pi)\n",
    "    print(f\"\\nradians: {rad} = {rad_pi:.3f}{pi_symb}\")\n",
    "    grad = float((400*rad)/(2*pi))\n",
    "    print(f\"gradians: {grad:.3f}{gon}\")\n",
    "    dd = float((360*rad)/(2*pi))\n",
    "    print(f\"dd: {dd:.3f}{deg_symb}\")\n",
    "    deg = int(dd)\n",
    "    dm = float((dd-deg)*60)\n",
    "    minutes = int(dm)\n",
    "    seconds = float((dd-deg-(minutes/60))*3600)\n",
    "    print(f\"ddm: {deg}{deg_symb} {dm:.3f}'\")\n",
    "    print(f\"dms: {deg}{deg_symb} {minutes}' {seconds:.3f}\\\" \")\n",
    "\n",
    "given_rad_pi(rad_pi)"
   ]
  },
  {
   "cell_type": "code",
   "execution_count": 11,
   "id": "e0bac510-1c5a-47c3-8920-367042f44849",
   "metadata": {},
   "outputs": [
    {
     "name": "stdout",
     "output_type": "stream",
     "text": [
      "\n",
      "gradians: 100.0ᵍ\n",
      "radians: 1.5707950592041016 = 0.500π\n",
      "dd: 90.000°\n",
      "ddm: 90° 0.000'\n",
      "dms: 90° 0' 0.000\" \n"
     ]
    }
   ],
   "source": [
    "#grad to rad, DMS and DD\n",
    "grad = float(input(\"Gradian angle: \"))\n",
    "def given_grad(grad):\n",
    "    print(f\"\\ngradians: {grad}{gon}\")\n",
    "    rad = float((2*pi*grad)/(400))\n",
    "    rad_pi = float(rad/pi)\n",
    "    print(f\"radians: {rad} = {rad_pi:.3f}{pi_symb}\")\n",
    "    dd = float((360*grad)/(400))\n",
    "    print(f\"dd: {dd:.3f}{deg_symb}\")\n",
    "    deg = int(dd)\n",
    "    dm = float((dd-deg)*60)\n",
    "    minutes = int(dm)\n",
    "    seconds = float((dd-deg-(minutes/60))*3600)\n",
    "    print(f\"ddm: {deg}{deg_symb} {dm:.3f}'\")\n",
    "    print(f\"dms: {deg}{deg_symb} {minutes}' {seconds:.3f}\\\" \")\n",
    "\n",
    "given_grad(grad)"
   ]
  },
  {
   "cell_type": "markdown",
   "id": "e7500371",
   "metadata": {},
   "source": [
    "## **Polar and Rectangular Coordinate System**\n",
    "$$\\cos{\\theta}=\\frac{x}{r} $$\n",
    "$$\\sin{\\theta}=\\frac{y}{r} $$\n",
    "### Cartesian Coordinates in terms of Polar Coordinates\n",
    "$$x=r\\cdot \\cos{\\theta} $$\n",
    "$$y=r\\cdot \\sin{\\theta} $$\n",
    "### Cartesian Coordinates in terms of Polar Coordinates\n",
    "$$r=\\sqrt{x^2+y^2}$$\n",
    "\n",
    "$$\n",
    "\\theta = atan2{(y,x)} = arctan2{(y,x)} = \\begin{cases}\n",
    "   \\arctan{(\\frac{y}{x})} &\\text{if } x>0 \\\\\n",
    "   \\arctan{(\\frac{y}{x})}+\\pi &\\text{if } x<0 \\land y\\geq 0 \\\\\n",
    "   \\arctan{(\\frac{y}{x})}-\\pi &\\text{if } x<0 \\land y<0 \\\\\n",
    "   +\\frac{\\pi}{2} &\\text{if } x=0 \\land y>0 \\\\\n",
    "   -\\frac{\\pi}{2} &\\text{if } x=0 \\land y<0 \\\\\n",
    "   \\text{Undefined} &\\text{if } x=0 \\land y= 0 \\\\\n",
    "\\end{cases}\n",
    "$$"
   ]
  },
  {
   "cell_type": "code",
   "execution_count": 34,
   "id": "8eda689f-526e-4613-94ac-4c67227d37db",
   "metadata": {},
   "outputs": [
    {
     "name": "stdout",
     "output_type": "stream",
     "text": [
      "θ = 270.0° = 4.712 = 1.5π\n",
      "r = 5.0\n",
      "\n",
      "x = 0\n",
      "y = -5.0\n"
     ]
    }
   ],
   "source": [
    "#Polar to Rect\n",
    "azimuth = float(input(f\"{theta_symb}: \"))\n",
    "radius = float(input(\"r: \"))\n",
    "def given_polar(azimuth,radius):\n",
    "    azimuth_rad = float((2*pi*azimuth)/360)\n",
    "    print(f\"{theta_symb} = {azimuth}{deg_symb} = {azimuth_rad:.3f} = {azimuth_rad/pi}{pi_symb}\\nr = {radius}\")\n",
    "    \n",
    "    # Debugging for erros in floating poitn arithmetic\n",
    "    x_coordinate = 0 if (azimuth % 90 == 0) and (azimuth % 180 != 0) else radius * cos(azimuth_rad)\n",
    "    y_coordinate = radius * sin(azimuth_rad) if azimuth % 180 != 0 else 0\n",
    "    print(f\"\\nx = {x_coordinate}\\ny = {y_coordinate}\")\n",
    "\n",
    "given_polar(azimuth,radius)"
   ]
  },
  {
   "cell_type": "code",
   "execution_count": 69,
   "id": "4b2bf1b5",
   "metadata": {},
   "outputs": [
    {
     "name": "stdout",
     "output_type": "stream",
     "text": [
      "x = -1.0 \n",
      "y = -1.0\n",
      "\n",
      "r = 1.414\n",
      "θ = -2.3562 = 225.00°\n"
     ]
    }
   ],
   "source": [
    "#Rect to Polar\n",
    "x_coordinate = float(input(\"x: \"))\n",
    "y_coordinate = float(input(\"y: \"))\n",
    "def given_rect(x_coordinate,y_coordinate):\n",
    "    print(f\"x = {x_coordinate} \\ny = {y_coordinate}\")\n",
    "    radius = float(mp.sqrt(x_coordinate**2 + y_coordinate **2))\n",
    "    \n",
    "    if x_coordinate == y_coordinate == 0:\n",
    "        azimuth = nan\n",
    "    elif (x_coordinate == 0) and (y_coordinate < 0):\n",
    "        azimuth = -pi/2\n",
    "    elif (x_coordinate == 0) and (y_coordinate > 0):\n",
    "        azimuth = pi/2\n",
    "    elif (x_coordinate < 0) and (y_coordinate < 0):\n",
    "        azimuth = mp.atan(y_coordinate/x_coordinate) - pi\n",
    "    elif (x_coordinate < 0) and (y_coordinate >= 0):\n",
    "        azimuth = mp.atan(y_coordinate/x_coordinate) + pi\n",
    "    else:\n",
    "        azimuth = mp.atan(y_coordinate/x_coordinate)\n",
    "    \n",
    "    azimuth_deg = float((180*azimuth)/(pi))\n",
    "    if azimuth_deg < 0: azimuth_deg += 360\n",
    "\n",
    "    # azimuth = mp.atan2(y_coordinate,x_coordinate)\n",
    "    \n",
    "    print(f\"\\nr = {radius:.3f}\\n{theta_symb} = {azimuth} = {azimuth_deg:.2f}{deg_symb}\")\n",
    "\n",
    "given_rect(x_coordinate,y_coordinate)"
   ]
  },
  {
   "cell_type": "markdown",
   "id": "904e3d39",
   "metadata": {},
   "source": [
    "## Unit Circle"
   ]
  },
  {
   "cell_type": "markdown",
   "id": "476bfb20",
   "metadata": {},
   "source": [
    "iframe_1 = '<iframe src=\"https://www.geogebra.org/classic/snzkqbbw?embed\" width=\"1000\" height=\"600\" allowfullscreen style=\"border: 1px solid #e4e4e4;border-radius: 4px;\" frameborder=\"0\"></iframe>'\n",
    "IPython.display.HTML(iframe_1)"
   ]
  },
  {
   "cell_type": "code",
   "execution_count": 5,
   "id": "ddf79914",
   "metadata": {},
   "outputs": [
    {
     "data": {
      "text/html": [
       "<iframe src=\"https://www.geogebra.org/classic/xmtgtsrk?embed\" width=\"1000\" height=\"600\" allowfullscreen style=\"border: 1px solid #e4e4e4;border-radius: 4px;\" frameborder=\"0\"></iframe>"
      ],
      "text/plain": [
       "<IPython.core.display.HTML object>"
      ]
     },
     "execution_count": 5,
     "metadata": {},
     "output_type": "execute_result"
    }
   ],
   "source": [
    "iframe_2 = '<iframe src=\"https://www.geogebra.org/classic/xmtgtsrk?embed\" width=\"1000\" height=\"600\" allowfullscreen style=\"border: 1px solid #e4e4e4;border-radius: 4px;\" frameborder=\"0\"></iframe>'\n",
    "IPython.display.HTML(iframe_2)"
   ]
  },
  {
   "cell_type": "code",
   "execution_count": null,
   "id": "d2ec343f",
   "metadata": {},
   "outputs": [],
   "source": []
  }
 ],
 "metadata": {
  "kernelspec": {
   "display_name": "Python 3.10.5 64-bit",
   "language": "python",
   "name": "python3"
  },
  "language_info": {
   "codemirror_mode": {
    "name": "ipython",
    "version": 3
   },
   "file_extension": ".py",
   "mimetype": "text/x-python",
   "name": "python",
   "nbconvert_exporter": "python",
   "pygments_lexer": "ipython3",
   "version": "3.10.5"
  },
  "vscode": {
   "interpreter": {
    "hash": "369f2c481f4da34e4445cda3fffd2e751bd1c4d706f27375911949ba6bb62e1c"
   }
  }
 },
 "nbformat": 4,
 "nbformat_minor": 5
}
