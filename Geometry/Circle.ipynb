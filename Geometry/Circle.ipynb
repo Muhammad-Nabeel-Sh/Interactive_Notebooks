{
 "cells": [
  {
   "cell_type": "markdown",
   "metadata": {},
   "source": [
    "# Circles\n"
   ]
  },
  {
   "cell_type": "markdown",
   "metadata": {},
   "source": [
    "## Terminology \n",
    "* **Circle:** a set of equidistant points from a fixed point (**centre**)\n",
    "  * A circle has the maximum possible area for a given perimeter, and the minimum possible perimeter for a given area.\n",
    "* **Radius:** an interval joining a point of a circle to the centre\n",
    "  * All radii are by definition equal\n",
    "* **Chord:** an interval joining two points on a circle\n",
    "* **Diameter:** a chord passing through the centre\n",
    "* **Secant:** a line cutting the circle at two distinct points\n",
    "  * A chord is an interval a circle cuts off a secant\n",
    "* **Circumference:** the perimeter of a circle\n",
    "* The angle a circle subtends from its center is a full angle, equal to $360^\\circ$ or $2\\pi \\, rad$.\n",
    "* **Annulus**: the region lying between two coplanar concentric circles"
   ]
  },
  {
   "cell_type": "code",
   "execution_count": 4,
   "metadata": {},
   "outputs": [],
   "source": [
    "import numpy as np\n",
    "import sympy as sp\n",
    "import math\n",
    "x,y,r = sp.symbols('x,y,r')\n",
    "f,g,c = sp.symbols('f,g,c')\n",
    "sp.init_printing(use_latex=True)\n",
    "import IPython\n",
    "from IPython.display import display, Latex"
   ]
  },
  {
   "cell_type": "markdown",
   "metadata": {},
   "source": [
    "## Circumeference\n",
    "$$\n",
    "C = \\pi d = 2 \\pi r \\\\\n",
    "\n",
    "$$\n",
    "\n",
    "## Area\n",
    "### Onion Proof\n",
    "$$\n",
    "\\begin{aligned}\n",
    "A &= \\int_0^r{2\\pi t \\, dt} \\\\\n",
    "&= 2 \\pi \\left[\\frac{t^2}{2}\\right]_0^r \\\\\n",
    "&= \\pi r^2\n",
    "\\end{aligned}\n",
    "$$"
   ]
  },
  {
   "cell_type": "markdown",
   "metadata": {},
   "source": [
    "## Equation of a circle\n",
    "### Standard Form\n",
    "$$ (x-h)^2 + (y-k)^2 = r^2 $$\n",
    "### Parametric Equations\n",
    "$$ x = r\\cos{\\theta} $$\n",
    "$$ y = r\\sin{\\theta} $$\n",
    "### General Form\n",
    "$$ x^2 + y^2 + 2gx + 2fy + c = 0 $$ \n",
    "where $ g,f,c $ are constants\n",
    "$$ x^2 + 2gx + y^2 + 2fy + c = 0 $$\n",
    "by completing the squares\n",
    "$$ x^2 + 2gx+ g^2 + y^2 + 2fy + f^2 + c = g^2 + f^2 $$\n",
    "$$ (x+g)^2 + (y+f)^2  = g^2 + f^2 - c $$\n",
    "$$ (x-(-g))^2 + (y-(-f))^2  = \\left(\\sqrt{g^2 + f^2 - c}\\right)^2 $$\n",
    "Centre coordinates = $(-g,-f)$  \n",
    "Radius = $\\sqrt{g^2 + f^2 - c}$\n",
    "\n",
    "### Circle through a point $(x_0,y_0)$ and radius $r$\n",
    "The set of all points $(x,y)$ such that\n",
    "$$ (x-x_0)^2+(y-y_0)^2=r^2 $$  \n",
    "A circle with the centre at the origin\n",
    "$$ x^2 + y^2 =r^2 $$"
   ]
  },
  {
   "cell_type": "code",
   "execution_count": 13,
   "metadata": {},
   "outputs": [
    {
     "data": {
      "text/latex": [
       "$(x-12.0)^2+(y-5.3)^2=51.84$"
      ],
      "text/plain": [
       "<IPython.core.display.Latex object>"
      ]
     },
     "metadata": {},
     "output_type": "display_data"
    }
   ],
   "source": [
    "centre_coordinates = (float(input(\"x_0 = \")),float(input(\"y_0 = \")))\n",
    "radius = float(input(\"r = \"))\n",
    "display(Latex(f\"$(x-{centre_coordinates[0]})^2+(y-{centre_coordinates[1]})^2={radius**2}$\"))"
   ]
  },
  {
   "cell_type": "markdown",
   "metadata": {},
   "source": [
    "### Circle with endpoints of a diameter\n",
    "$$\n",
    "x-x_1 = x-x_2 \\\\\n",
    "y-y_1= y-y_2 \\\\\n",
    "(x-x_1)(x-x_2)+(y-y_1)(y-y_2) = r^2\n",
    "$$"
   ]
  },
  {
   "cell_type": "code",
   "execution_count": 51,
   "metadata": {},
   "outputs": [
    {
     "data": {
      "text/latex": [
       "$(x-0.0)(x-0.0)+(y-2.0)(y--2.0)=4.0$"
      ],
      "text/plain": [
       "<IPython.core.display.Latex object>"
      ]
     },
     "metadata": {},
     "output_type": "display_data"
    },
    {
     "data": {
      "image/png": "[encoded data removed]",
      "text/latex": [
       "$\\displaystyle x^{2} + y^{2} - 8.0$"
      ],
      "text/plain": [
       " 2    2      \n",
       "x  + y  - 8.0"
      ]
     },
     "execution_count": 51,
     "metadata": {},
     "output_type": "execute_result"
    }
   ],
   "source": [
    "endpoint_1 = (float(input(\"x_1 = \")),float(input(\"y_1 = \")))\n",
    "endpoint_2 = (float(input(\"x_2 = \")),float(input(\"y_2 = \")))\n",
    "radius = 0.5 * np.sqrt((endpoint_1[0]-endpoint_2[0])**2+(endpoint_1[1]-endpoint_2[1])**2)\n",
    "display(Latex(f\"$(x-{endpoint_1[0]})(x-{endpoint_2[0]})+(y-{endpoint_1[1]})(y-{endpoint_2[1]})={radius**2}$\"))\n",
    "sp.expand((x-endpoint_1[0])*(x-endpoint_2[0])+(y-endpoint_1[1])*(y-endpoint_2[1])-radius**2)\n"
   ]
  },
  {
   "cell_type": "markdown",
   "metadata": {},
   "source": [
    "Give centre coordinate $(x_0,y_0)$ and one endpoint of a diameter $(x_1,y_1)$  \n",
    "$$\n",
    "\\begin{aligned}\n",
    "x_0 &= \\dfrac{x_1+x_2}{2} \\quad \\therefore \\quad  x_2 = 2 * x_0 -x_1 \\\\\n",
    "y_0 &= \\dfrac{y_1+y_2}{2} \\quad \\therefore \\quad  y_2 = 2 * y_0 -y_1 \n",
    "\\end{aligned}\n",
    "$$"
   ]
  },
  {
   "cell_type": "code",
   "execution_count": 33,
   "metadata": {},
   "outputs": [
    {
     "data": {
      "image/png": "[encoded data removed]",
      "text/latex": [
       "$\\displaystyle \\left( 10.0, \\  11.0\\right)$"
      ],
      "text/plain": [
       "(10.0, 11.0)"
      ]
     },
     "metadata": {},
     "output_type": "display_data"
    }
   ],
   "source": [
    "centre_coordinates = (float(input(\"x_0 = \")),float(input(\"y_0 = \")))\n",
    "endpoint_1 = (float(input(\"x_1 = \")),float(input(\"y_1 = \")))\n",
    "endpoint_2 = (2*centre_coordinates[0]-endpoint_1[0],2*centre_coordinates[1]-endpoint_1[1])\n",
    "display(endpoint_2)"
   ]
  },
  {
   "cell_type": "markdown",
   "metadata": {},
   "source": [
    "### Circle defined by three points"
   ]
  },
  {
   "cell_type": "markdown",
   "metadata": {},
   "source": [
    "$$\n",
    "\\begin{aligned}\n",
    "x_1^2 + y_1^2 + 2gx_1 + 2fy_1 + c &= 0 \\\\\n",
    "x_2^2 + y_2^2 + 2gx_2 + 2fy_2 + c &= 0 \\\\\n",
    "x_3^2 + y_3^2 + 2gx_3 + 2fy_3 + c &= 0\n",
    "\\end{aligned}\n",
    "$$\n",
    "Solving for $f$ and $g$ as a system of linear equations "
   ]
  },
  {
   "cell_type": "code",
   "execution_count": 62,
   "metadata": {},
   "outputs": [
    {
     "data": {
      "image/png": "[encoded data removed]",
      "text/latex": [
       "$\\displaystyle \\left( 1.0, \\  2.0\\right)$"
      ],
      "text/plain": [
       "(1.0, 2.0)"
      ]
     },
     "metadata": {},
     "output_type": "display_data"
    },
    {
     "data": {
      "image/png": "[encoded data removed]",
      "text/latex": [
       "$\\displaystyle \\left( 2.0, \\  3.0\\right)$"
      ],
      "text/plain": [
       "(2.0, 3.0)"
      ]
     },
     "metadata": {},
     "output_type": "display_data"
    },
    {
     "data": {
      "image/png": "[encoded data removed]",
      "text/latex": [
       "$\\displaystyle \\left( 3.0, \\  1.0\\right)$"
      ],
      "text/plain": [
       "(3.0, 1.0)"
      ]
     },
     "metadata": {},
     "output_type": "display_data"
    }
   ],
   "source": [
    "point_1 = (float(input(\"x_1 = \")),float(input(\"y_1 = \")))\n",
    "point_2 = (float(input(\"x_2 = \")),float(input(\"y_2 = \")))\n",
    "point_3 = (float(input(\"x_3 = \")),float(input(\"y_3 = \")))\n",
    "display(point_1,point_2,point_3)"
   ]
  },
  {
   "cell_type": "code",
   "execution_count": 63,
   "metadata": {},
   "outputs": [
    {
     "data": {
      "image/png": "[encoded data removed]",
      "text/latex": [
       "$\\displaystyle \\left\\{ c : \\frac{20}{3}, \\  f : - \\frac{11}{6}, \\  g : - \\frac{13}{6}\\right\\}$"
      ],
      "text/plain": [
       "{c: 20/3, f: -11/6, g: -13/6}"
      ]
     },
     "execution_count": 63,
     "metadata": {},
     "output_type": "execute_result"
    }
   ],
   "source": [
    "eq_1 = sp.Eq(point_1[0]**2 + point_1[1]**2 + 2*point_1[0]*g + 2*point_1[1]*f + c , 0)\n",
    "eq_2 = sp.Eq(point_2[0]**2 + point_2[1]**2 + 2*point_2[0]*g + 2*point_2[1]*f + c , 0)\n",
    "eq_3 = sp.Eq(point_3[0]**2 + point_3[1]**2 + 2*point_3[0]*g + 2*point_3[1]*f + c , 0)\n",
    "Solution = sp.solve((eq_1,eq_2,eq_3),(f,g,c))\n",
    "sp.nsimplify(Solution)"
   ]
  },
  {
   "cell_type": "code",
   "execution_count": 76,
   "metadata": {},
   "outputs": [
    {
     "data": {
      "image/png": "[encoded data removed]",
      "text/latex": [
       "$\\displaystyle \\left( \\frac{13}{6}, \\  \\frac{11}{6}\\right)$"
      ],
      "text/plain": [
       "(13/6, 11/6)"
      ]
     },
     "metadata": {},
     "output_type": "display_data"
    },
    {
     "data": {
      "image/png": "[encoded data removed]",
      "text/latex": [
       "$\\displaystyle \\frac{5 \\sqrt{2}}{6}$"
      ],
      "text/plain": [
       "5⋅√2\n",
       "────\n",
       " 6  "
      ]
     },
     "metadata": {},
     "output_type": "display_data"
    },
    {
     "data": {
      "image/png": "[encoded data removed]",
      "text/latex": [
       "$\\displaystyle 1.17851130197758$"
      ],
      "text/plain": [
       "1.1785113019775781"
      ]
     },
     "metadata": {},
     "output_type": "display_data"
    }
   ],
   "source": [
    "centre_coordinates_3_point = (-sp.nsimplify(Solution.get(g)),-sp.nsimplify(Solution.get(f)))\n",
    "radius = math.sqrt(Solution.get(g)**2+Solution.get(f)**2-Solution.get(c))\n",
    "display(centre_coordinates_3_point,sp.nsimplify(radius),radius)"
   ]
  },
  {
   "cell_type": "markdown",
   "metadata": {},
   "source": [
    "## Annulus\n",
    "$$\n",
    "A = \\pi R^2 - \\pi r^2 = \\pi (R^2 -r^2) = \\pi (R+r)(R-r) \\\\\n",
    "A = \\pi d^2 \\\\\n",
    "A = \\int_r^R {2\\pi\\rho \\, d\\rho} = \\pi (R^2 -r^2)\n",
    "$$"
   ]
  },
  {
   "cell_type": "code",
   "execution_count": 6,
   "metadata": {},
   "outputs": [
    {
     "data": {
      "text/html": [
       "<iframe src=\"https://www.geogebra.org/classic/jmzn8whd?embed\" width=\"1000\" height=\"600\" allowfullscreen style=\"border: 1px solid #e4e4e4;border-radius: 4px;\" frameborder=\"0\"></iframe>"
      ],
      "text/plain": [
       "<IPython.core.display.HTML object>"
      ]
     },
     "execution_count": 6,
     "metadata": {},
     "output_type": "execute_result"
    }
   ],
   "source": [
    "annulus_iframe = '<iframe src=\"https://www.geogebra.org/classic/jmzn8whd?embed\" width=\"1000\" height=\"600\" allowfullscreen style=\"border: 1px solid #e4e4e4;border-radius: 4px;\" frameborder=\"0\"></iframe>' \n",
    "IPython.display.HTML(annulus_iframe)\n"
   ]
  },
  {
   "cell_type": "code",
   "execution_count": 26,
   "metadata": {},
   "outputs": [
    {
     "data": {
      "image/png": "[encoded data removed]",
      "text/latex": [
       "$\\displaystyle 50.265$"
      ],
      "text/plain": [
       "50.265"
      ]
     },
     "metadata": {},
     "output_type": "display_data"
    }
   ],
   "source": [
    "def annulus_radii():\n",
    "    r_out,r_in = float(input(\"R = \")),float(input(\"r = \"))\n",
    "    annulus_area = np.pi*(r_out**2 - r_in**2)\n",
    "    display(round(annulus_area,3))\n",
    "    return annulus_area\n",
    "\n",
    "def annulus_d():\n",
    "    chord_tangent = float(input(\"d = \"))\n",
    "    annulus_area = np.pi*(chord_tangent**2)\n",
    "    display(round(annulus_area,3))\n",
    "    return annulus_area\n",
    "\n",
    "annulus_given = int(input(\"Given values:\\n1.R,r\\n2.d\"))\n",
    "if annulus_given == 1:\n",
    "    annulus_radii()\n",
    "if annulus_given == 2:\n",
    "    annulus_d()\n",
    "else:\n",
    "    pass"
   ]
  },
  {
   "cell_type": "markdown",
   "metadata": {},
   "source": [
    "## Pancake Cutting Problem\n"
   ]
  },
  {
   "cell_type": "markdown",
   "metadata": {},
   "source": []
  }
 ],
 "metadata": {
  "kernelspec": {
   "display_name": "Python 3.10.5 64-bit",
   "language": "python",
   "name": "python3"
  },
  "language_info": {
   "codemirror_mode": {
    "name": "ipython",
    "version": 3
   },
   "file_extension": ".py",
   "mimetype": "text/x-python",
   "name": "python",
   "nbconvert_exporter": "python",
   "pygments_lexer": "ipython3",
   "version": "3.10.8 (tags/v3.10.8:aaaf517, Oct 11 2022, 16:50:30) [MSC v.1933 64 bit (AMD64)]"
  },
  "orig_nbformat": 4,
  "vscode": {
   "interpreter": {
    "hash": "369f2c481f4da34e4445cda3fffd2e751bd1c4d706f27375911949ba6bb62e1c"
   }
  }
 },
 "nbformat": 4,
 "nbformat_minor": 2
}
