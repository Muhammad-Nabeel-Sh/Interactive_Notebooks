{
 "cells": [
  {
   "cell_type": "markdown",
   "id": "8fa0da80",
   "metadata": {},
   "source": [
    "# Periodic Functions\n",
    "$$\n",
    "f(x) = f(x+l) = f(x+2l)=\\; ...\n",
    "$$"
   ]
  },
  {
   "cell_type": "code",
   "execution_count": 28,
   "id": "95a6d01f",
   "metadata": {},
   "outputs": [
    {
     "name": "stdout",
     "output_type": "stream",
     "text": [
      "Mpmath settings:\n",
      "  mp.prec = 20                [default: 53]\n",
      "  mp.dps = 5                  [default: 15]\n",
      "  mp.trap_complex = False     [default: False]\n"
     ]
    }
   ],
   "source": [
    "from mpmath import *\n",
    "# from sympy import *\n",
    "# init_session()\n",
    "mp.dps = 5\n",
    "mp.pretty = True\n",
    "print(mp)\n",
    "# from fractions import Fraction"
   ]
  },
  {
   "cell_type": "markdown",
   "id": "1a079c60",
   "metadata": {
    "tags": []
   },
   "source": [
    "## Angles\n",
    "### Degrees, Radians and Gradians\n",
    "$$\n",
    "\\frac{\\theta^{\\circ}}{360^{\\circ}}=\\frac{\\theta^{rad}}{2\\pi}=\\frac{\\theta^g}{400}\n",
    "$$\n",
    "\n",
    "### Decimal Degrees **DD** and Degrees, Minutes, Seconds **DMS**\n",
    "$$\n",
    "dd = d + \\frac{m}{60} + \\frac{s}{3600}\n",
    "$$\n",
    "$$\n",
    "d = integer(dd) \\\\\n",
    "dm = (dd - d)\\times 60 \\\\\n",
    "m = integer(dm) \\\\\n",
    "s = (dd - d - \\frac{m}{60})\\times 3600\n",
    "$$"
   ]
  },
  {
   "cell_type": "code",
   "execution_count": 42,
   "id": "5f84723b",
   "metadata": {},
   "outputs": [
    {
     "name": "stdin",
     "output_type": "stream",
     "text": [
      "Enter a decimal degree:  56.59\n"
     ]
    },
    {
     "name": "stdout",
     "output_type": "stream",
     "text": [
      "\n",
      "dd: 56.59°\n",
      "ddm: 56° 35.400'\n",
      "dms: 56° 35' 24.000\" \n",
      "radians: 0.9876813888549805 = 0.314π\n",
      "gradians: 62.878ᵍ\n"
     ]
    }
   ],
   "source": [
    "# DD to DMS, rad , grad\n",
    "dd = float(input(\"Enter a decimal degree: \"))\n",
    "deg_symb = chr(176)\n",
    "gon = chr(7501)\n",
    "def given_dd(dd):\n",
    "    print(f\"\\ndd: {dd}{deg_symb}\")\n",
    "    deg = int(dd)\n",
    "    dm = float((dd-deg)*60)\n",
    "    minutes = int(dm)\n",
    "    seconds = float((dd-deg-(minutes/60))*3600)\n",
    "    print(f\"ddm: {deg}{deg_symb} {dm:.3f}'\")\n",
    "    print(f\"dms: {deg}{deg_symb} {minutes}' {seconds:.3f}\\\" \")\n",
    "    rad = float((2*pi*dd)/360)\n",
    "    rad_pi = float(rad/pi)\n",
    "    print(f\"radians: {rad} = {rad_pi:.3f}{pi_symb}\")\n",
    "    grad = float((400*dd)/360)\n",
    "    print(f\"gradians: {grad:.3f}{gon}\")\n",
    "\n",
    "given_dd(dd)"
   ]
  },
  {
   "cell_type": "code",
   "execution_count": 43,
   "id": "a50dea6d",
   "metadata": {},
   "outputs": [
    {
     "name": "stdin",
     "output_type": "stream",
     "text": [
      "degree:  50\n",
      "minutes:  32\n",
      "seconds:  15.48\n"
     ]
    },
    {
     "name": "stdout",
     "output_type": "stream",
     "text": [
      "\n",
      "dms: 50° 32' 15.48\" \n",
      "ddm: 50.0° ,32.258'\n",
      "dd: 50.538°\n",
      "radians: 0.8820486068725586 = 0.281π\n",
      "gradians: 56.153ᵍ\n"
     ]
    }
   ],
   "source": [
    "# DMS to DD, rad , grad\n",
    "deg = float(input(\"degree: \"))\n",
    "minutes = float(input(\"minutes: \"))\n",
    "seconds = float(input(\"seconds: \"))\n",
    "deg_symb = chr(176)\n",
    "gon = chr(7501)\n",
    "def given_dms(deg,minutes,seconds):\n",
    "    print(f\"\\ndms: {int(deg)}{deg_symb} {int(minutes)}' {seconds}\\\" \")\n",
    "    dm = minutes + (seconds/60)\n",
    "    dd = deg + (minutes/60) + (seconds/3600) \n",
    "    print(f\"ddm: {deg}{deg_symb} ,{dm:.3f}'\")\n",
    "    print(f\"dd: {dd:.3f}{deg_symb}\")\n",
    "    rad = float((2*pi*dd)/360)\n",
    "    rad_pi = float(rad/pi)\n",
    "    print(f\"radians: {rad} = {rad_pi:.3f}{pi_symb}\")\n",
    "    grad = float((400*dd)/360)\n",
    "    print(f\"gradians: {grad:.3f}{gon}\")\n",
    "\n",
    "given_dms(deg,minutes,seconds)"
   ]
  },
  {
   "cell_type": "code",
   "execution_count": 51,
   "id": "598b9968-2051-4ba1-a2c5-3626ba8574ea",
   "metadata": {
    "tags": []
   },
   "outputs": [
    {
     "name": "stdin",
     "output_type": "stream",
     "text": [
      "Radian angle:  3.14\n"
     ]
    },
    {
     "name": "stdout",
     "output_type": "stream",
     "text": [
      "\n",
      "radians: 3.14 = 0.999π\n",
      "gradians: 199.898ᵍ\n",
      "dd: 179.909°\n",
      "ddm: 179° 54.521'\n",
      "dms: 179° 54' 31.289\" \n"
     ]
    }
   ],
   "source": [
    "#rad to grad, DMS and DD\n",
    "rad = float(input(\"Radian angle: \"))\n",
    "deg_symb = chr(176)\n",
    "gon = chr(7501)\n",
    "pi_symb = chr(960)\n",
    "def given_rad(rad):\n",
    "    rad_pi = float(rad/pi)\n",
    "    print(f\"\\nradians: {rad} = {rad_pi:.3f}{pi_symb}\")\n",
    "    grad = float((400*rad)/(2*pi))\n",
    "    print(f\"gradians: {grad:.3f}{gon}\")\n",
    "    dd = float((360*rad)/(2*pi))\n",
    "    print(f\"dd: {dd:.3f}{deg_symb}\")\n",
    "    deg = int(dd)\n",
    "    dm = float((dd-deg)*60)\n",
    "    minutes = int(dm)\n",
    "    seconds = float((dd-deg-(minutes/60))*3600)\n",
    "    print(f\"ddm: {deg}{deg_symb} {dm:.3f}'\")\n",
    "    print(f\"dms: {deg}{deg_symb} {minutes}' {seconds:.3f}\\\" \")\n",
    "\n",
    "given_rad(rad)"
   ]
  },
  {
   "cell_type": "code",
   "execution_count": 56,
   "id": "e9080d52-e529-42eb-9135-c194956fb57a",
   "metadata": {},
   "outputs": [
    {
     "name": "stdin",
     "output_type": "stream",
     "text": [
      "Radian angle: ... π  0.5\n"
     ]
    },
    {
     "name": "stdout",
     "output_type": "stream",
     "text": [
      "\n",
      "radians: 1.5707969665527344 = 0.500π\n",
      "gradians: 100.000ᵍ\n",
      "dd: 90.000°\n",
      "ddm: 90° 0.000'\n",
      "dms: 90° 0' 0.000\" \n"
     ]
    }
   ],
   "source": [
    "#pi-rad to grad, DMS and DD\n",
    "deg_symb = chr(176)\n",
    "gon = chr(7501)\n",
    "pi_symb = chr(960)\n",
    "rad_pi = float(input(f\"Radian angle: ... {pi_symb} \"))\n",
    "def given_rad_pi(rad_pi):\n",
    "    rad = float(rad_pi * pi)\n",
    "    print(f\"\\nradians: {rad} = {rad_pi:.3f}{pi_symb}\")\n",
    "    grad = float((400*rad)/(2*pi))\n",
    "    print(f\"gradians: {grad:.3f}{gon}\")\n",
    "    dd = float((360*rad)/(2*pi))\n",
    "    print(f\"dd: {dd:.3f}{deg_symb}\")\n",
    "    deg = int(dd)\n",
    "    dm = float((dd-deg)*60)\n",
    "    minutes = int(dm)\n",
    "    seconds = float((dd-deg-(minutes/60))*3600)\n",
    "    print(f\"ddm: {deg}{deg_symb} {dm:.3f}'\")\n",
    "    print(f\"dms: {deg}{deg_symb} {minutes}' {seconds:.3f}\\\" \")\n",
    "\n",
    "given_rad_pi(rad_pi)"
   ]
  },
  {
   "cell_type": "code",
   "execution_count": 45,
   "id": "e0bac510-1c5a-47c3-8920-367042f44849",
   "metadata": {},
   "outputs": [
    {
     "name": "stdin",
     "output_type": "stream",
     "text": [
      "Gradian angle:  200\n"
     ]
    },
    {
     "name": "stdout",
     "output_type": "stream",
     "text": [
      "\n",
      "gradians: 200.0ᵍ\n",
      "radians: 3.141590118408203 = 1.000π\n",
      "dd: 180.000°\n",
      "ddm: 180° 0.000'\n",
      "dms: 180° 0' 0.000\" \n"
     ]
    }
   ],
   "source": [
    "#grad to rad, DMS and DD\n",
    "grad = float(input(\"Gradian angle: \"))\n",
    "deg_symb = chr(176)\n",
    "gon = chr(7501)\n",
    "def given_grad(grad):\n",
    "    print(f\"\\ngradians: {grad}{gon}\")\n",
    "    rad = float((2*pi*grad)/(400))\n",
    "    rad_pi = float(rad/pi)\n",
    "    print(f\"radians: {rad} = {rad_pi:.3f}{pi_symb}\")\n",
    "    dd = float((360*grad)/(400))\n",
    "    print(f\"dd: {dd:.3f}{deg_symb}\")\n",
    "    deg = int(dd)\n",
    "    dm = float((dd-deg)*60)\n",
    "    minutes = int(dm)\n",
    "    seconds = float((dd-deg-(minutes/60))*3600)\n",
    "    print(f\"ddm: {deg}{deg_symb} {dm:.3f}'\")\n",
    "    print(f\"dms: {deg}{deg_symb} {minutes}' {seconds:.3f}\\\" \")\n",
    "\n",
    "given_grad(grad)"
   ]
  },
  {
   "cell_type": "code",
   "execution_count": null,
   "id": "8eda689f-526e-4613-94ac-4c67227d37db",
   "metadata": {},
   "outputs": [],
   "source": []
  }
 ],
 "metadata": {
  "kernelspec": {
   "display_name": "Python 3 (ipykernel)",
   "language": "python",
   "name": "python3"
  },
  "language_info": {
   "codemirror_mode": {
    "name": "ipython",
    "version": 3
   },
   "file_extension": ".py",
   "mimetype": "text/x-python",
   "name": "python",
   "nbconvert_exporter": "python",
   "pygments_lexer": "ipython3",
   "version": "3.9.7"
  }
 },
 "nbformat": 4,
 "nbformat_minor": 5
}
