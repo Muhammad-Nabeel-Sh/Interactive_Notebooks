{
 "cells": [
  {
   "cell_type": "markdown",
   "id": "8fa0da80",
   "metadata": {},
   "source": [
    "# Periodic Functions\n",
    "$$\n",
    "f(x) = f(x+l) = f(x+2l)=\\; ...\n",
    "$$"
   ]
  },
  {
   "cell_type": "code",
   "execution_count": 17,
   "id": "95a6d01f",
   "metadata": {},
   "outputs": [
    {
     "name": "stdout",
     "output_type": "stream",
     "text": [
      "Mpmath settings:\n",
      "  mp.prec = 20                [default: 53]\n",
      "  mp.dps = 5                  [default: 15]\n",
      "  mp.trap_complex = False     [default: False]\n"
     ]
    },
    {
     "data": {
      "text/plain": [
       "-1.2795e-6"
      ]
     },
     "execution_count": 17,
     "metadata": {},
     "output_type": "execute_result"
    }
   ],
   "source": [
    "from mpmath import *\n",
    "# from sympy import *\n",
    "# init_session()\n",
    "mp.dps = 5\n",
    "mp.pretty = True\n",
    "print(mp)"
   ]
  },
  {
   "cell_type": "markdown",
   "id": "1a079c60",
   "metadata": {},
   "source": [
    "## Angles\n",
    "### Degrees, Radians and Gradians\n",
    "$$\n",
    "\\frac{\\theta^{\\circ}}{360^{\\circ}}=\\frac{\\theta^{rad}}{2\\pi}=\\frac{\\theta^g}{400}\n",
    "$$\n",
    "\n",
    "### Decimal Degrees **DD** and Degrees, Minutes, Seconds **DMS**\n",
    "$$\n",
    "dd = d + \\frac{m}{60} + \\frac{s}{3600}\n",
    "$$\n",
    "$$\n",
    "d = integer(dd) \\\\\n",
    "dm = (dd - d)\\times 60 \\\\\n",
    "m = integer(dm) \\\\\n",
    "s = (dd - d - \\frac{m}{60})\\times 3600\n",
    "$$"
   ]
  },
  {
   "cell_type": "code",
   "execution_count": 46,
   "id": "5f84723b",
   "metadata": {},
   "outputs": [
    {
     "name": "stdout",
     "output_type": "stream",
     "text": [
      "Enter a decimal degree: -56.78\n",
      "dd: -56.78°\n",
      "ddm: -56° -46.800'\n",
      "dms: -56° -46' -48.000\" \n",
      "radians: -0.991\n",
      "gradians: -63.089ᵍ\n"
     ]
    }
   ],
   "source": [
    "# DD to DMS, rad , grad\n",
    "dd = float(input(\"Enter a decimal degree: \"))\n",
    "deg_symb = chr(176)\n",
    "gon = chr(7501)\n",
    "def given_dd(dd):\n",
    "    print(f\"dd: {dd}{deg_symb}\")\n",
    "    deg = int(dd)\n",
    "    dm = (dd-deg)*60\n",
    "    minutes = int(dm)\n",
    "    seconds = (dd-deg-(minutes/60))*3600\n",
    "    print(f\"ddm: {deg}{deg_symb} {dm:.3f}'\")\n",
    "    print(f\"dms: {deg}{deg_symb} {minutes}' {seconds:.3f}\\\" \")\n",
    "    rad = (2*pi*dd)/360\n",
    "    grad = (400*dd)/360\n",
    "    print(f\"radians: {rad}\")\n",
    "    print(f\"gradians: {grad:.3f}{gon}\")\n",
    "\n",
    "given_dd(dd)"
   ]
  },
  {
   "cell_type": "code",
   "execution_count": 47,
   "id": "a50dea6d",
   "metadata": {},
   "outputs": [
    {
     "name": "stdout",
     "output_type": "stream",
     "text": [
      "degree: -45\n",
      "minutes: 55\n",
      "seconds: 12.65\n",
      "dms: -45.0° 55.0' 12.65\" \n",
      "ddm: -45.0° ,55.211'\n",
      "dms: -44.080°\n",
      "radians: -0.76934\n",
      "gradians: -48.978ᵍ\n"
     ]
    }
   ],
   "source": [
    "# DMS to DD, rad , grad\n",
    "deg = float(input(\"degree: \"))\n",
    "minutes = float(input(\"minutes: \"))\n",
    "seconds = float(input(\"seconds: \"))\n",
    "deg_symb = chr(176)\n",
    "gon = chr(7501)\n",
    "def given_dms(deg,minutes,seconds):\n",
    "    print(f\"dms: {deg}{deg_symb} {minutes}' {seconds}\\\" \")\n",
    "    dm = minutes + (seconds/60)\n",
    "    dd = deg + (minutes/60) + (seconds/3600) \n",
    "    print(f\"ddm: {deg}{deg_symb} ,{dm:.3f}'\")\n",
    "    print(f\"dms: {dd:.3f}{deg_symb}\")\n",
    "    rad = (2*pi*dd)/360\n",
    "    grad = (400*dd)/360\n",
    "    print(f\"radians: {rad}\")\n",
    "    print(f\"gradians: {grad:.3f}{gon}\")\n",
    "\n",
    "given_dms(deg,minutes,seconds)"
   ]
  }
 ],
 "metadata": {
  "kernelspec": {
   "display_name": "Python 3 (ipykernel)",
   "language": "python",
   "name": "python3"
  },
  "language_info": {
   "codemirror_mode": {
    "name": "ipython",
    "version": 3
   },
   "file_extension": ".py",
   "mimetype": "text/x-python",
   "name": "python",
   "nbconvert_exporter": "python",
   "pygments_lexer": "ipython3",
   "version": "3.9.7"
  }
 },
 "nbformat": 4,
 "nbformat_minor": 5
}
