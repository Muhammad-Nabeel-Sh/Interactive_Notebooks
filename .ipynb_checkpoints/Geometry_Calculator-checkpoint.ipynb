{
 "cells": [
  {
   "cell_type": "markdown",
   "metadata": {
    "colab_type": "text",
    "id": "view-in-github"
   },
   "source": [
    "<a href=\"https://colab.research.google.com/github/Muhammad-Nabeel-Sh/Maths_Interactive_Notebooks/blob/main/Geometry_Calculator.ipynb\" target=\"_parent\"><img src=\"https://colab.research.google.com/assets/colab-badge.svg\" alt=\"Open In Colab\"/></a>"
   ]
  },
  {
   "cell_type": "markdown",
   "metadata": {
    "id": "ezigYplI8yQF"
   },
   "source": [
    "# Geometry Calculator\n",
    "\n",
    "## Importing libraries"
   ]
  },
  {
   "cell_type": "code",
   "execution_count": 2,
   "metadata": {
    "colab": {
     "base_uri": "https://localhost:8080/"
    },
    "id": "A1SAR-z783qr",
    "outputId": "1d753504-dfe0-4646-ff3e-6969577f9dd4"
   },
   "outputs": [
    {
     "name": "stdout",
     "output_type": "stream",
     "text": [
      "IPython console for SymPy 1.7.1 (Python 3.7.12-64-bit) (ground types: python)\n",
      "\n",
      "These commands were executed:\n",
      ">>> from __future__ import division\n",
      ">>> from sympy import *\n",
      ">>> x, y, z, t = symbols('x y z t')\n",
      ">>> k, m, n = symbols('k m n', integer=True)\n",
      ">>> f, g, h = symbols('f g h', cls=Function)\n",
      ">>> init_printing()\n",
      "\n",
      "Documentation can be found at https://docs.sympy.org/1.7.1/\n",
      "\n"
     ]
    }
   ],
   "source": [
    "from mpmath import mp \n",
    "from sympy import *\n",
    "init_session()"
   ]
  },
  {
   "cell_type": "markdown",
   "metadata": {
    "id": "_EiYMWYVDRW5"
   },
   "source": [
    "## Triangles\n",
    "\n",
    "### Existence of a Triangle\n",
    "\n",
    "- *Given*: three sides\n",
    "$$ a+b > c, \\hspace{1cm}  b+c > a, \\hspace{1cm} a+c > b $$\n",
    "$$ 2\\max{(a,b,c)} < a+b+c $$"
   ]
  },
  {
   "cell_type": "code",
   "execution_count": 1,
   "metadata": {
    "colab": {
     "base_uri": "https://localhost:8080/"
    },
    "id": "K7od9PSE83VR",
    "outputId": "624d393b-254e-42a5-8ee3-0b642cbc37ca"
   },
   "outputs": [
    {
     "name": "stdout",
     "output_type": "stream",
     "text": [
      "a: 8\n",
      "b: 6\n",
      "c: 12\n",
      "True\n"
     ]
    }
   ],
   "source": [
    "side_1 = float(input(\"a: \"))\n",
    "side_2 = float(input(\"b: \"))\n",
    "side_3 = float(input(\"c: \"))\n",
    "def existence_of_triangle(side_1,side_2,side_3):\n",
    "  if max(side_1,side_2,side_3)*2 < (side_1+side_2+side_3):\n",
    "    print(True)\n",
    "  else:\n",
    "    print(False)\n",
    "\n",
    "existence_of_triangle(side_1,side_2,side_3)"
   ]
  },
  {
   "cell_type": "markdown",
   "metadata": {
    "id": "r-iNrVltv6sO"
   },
   "source": [
    "### Existence of a Right Triangle\n",
    "\n",
    "- *Given*: three sides\n",
    "$$ a^2+b^2 = c^2, \\hspace{1cm}  b^2+c^2 = a^2, \\hspace{1cm} a^2+c^2 = b^2 $$"
   ]
  },
  {
   "cell_type": "code",
   "execution_count": null,
   "metadata": {
    "colab": {
     "base_uri": "https://localhost:8080/"
    },
    "id": "Lv-TafdSwh57",
    "outputId": "ccec8f32-3675-4ed3-d406-198dabbbcaa6"
   },
   "outputs": [
    {
     "name": "stdout",
     "output_type": "stream",
     "text": [
      "a: 4\n",
      "b: 5\n",
      "c: 6\n",
      "False\n"
     ]
    }
   ],
   "source": [
    "side_1 = float(input(\"a: \"))\n",
    "side_2 = float(input(\"b: \"))\n",
    "side_3 = float(input(\"c: \"))\n",
    "def existence_of_right_triangle(side_1,side_2,side_3):\n",
    "  if (side_1)**2+(side_2)**2 == (side_3)**2  or (side_2)**2+(side_3)**2 == (side_1)**2  or (side_1)**2+(side_3)**2 == (side_2)**2:\n",
    "    print(True)\n",
    "  else:\n",
    "    print(False)\n",
    "\n",
    "existence_of_right_triangle(side_1,side_2,side_3)"
   ]
  }
 ],
 "metadata": {
  "colab": {
   "authorship_tag": "ABX9TyM5hQIw+M9wgs9PVcBdzOmh",
   "collapsed_sections": [],
   "include_colab_link": true,
   "name": "Geometry_Calculator.ipynb",
   "provenance": []
  },
  "kernelspec": {
   "display_name": "Python 3 (ipykernel)",
   "language": "python",
   "name": "python3"
  },
  "language_info": {
   "codemirror_mode": {
    "name": "ipython",
    "version": 3
   },
   "file_extension": ".py",
   "mimetype": "text/x-python",
   "name": "python",
   "nbconvert_exporter": "python",
   "pygments_lexer": "ipython3",
   "version": "3.9.7"
  }
 },
 "nbformat": 4,
 "nbformat_minor": 1
}
