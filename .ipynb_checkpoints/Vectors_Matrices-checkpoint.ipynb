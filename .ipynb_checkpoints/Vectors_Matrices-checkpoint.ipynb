{
 "cells": [
  {
   "cell_type": "markdown",
   "id": "dda15e08-8fc5-49f2-b49c-df243c906a57",
   "metadata": {},
   "source": [
    "# Vectors\n",
    "## Terminology"
   ]
  },
  {
   "cell_type": "markdown",
   "id": "20f059e9-6bff-4288-b90f-458f3733fa02",
   "metadata": {},
   "source": [
    "- A two-dimensional vector v is an ordered pair of real numbers, denoted in **component form** as $\\langle a,b \\rangle$\n",
    "- Zero vector $\\langle 0,0 \\rangle$"
   ]
  },
  {
   "cell_type": "code",
   "execution_count": 4,
   "id": "a7cc823b-cf6a-463e-bf78-15fa351a590d",
   "metadata": {},
   "outputs": [
    {
     "name": "stdout",
     "output_type": "stream",
     "text": [
      "ans = 134\n"
     ]
    }
   ],
   "source": [
    "A = [10 5 3];\n",
    "A*A'"
   ]
  },
  {
   "cell_type": "code",
   "execution_count": 5,
   "id": "a6f7e46e-e622-483f-baea-e4d2bef381ac",
   "metadata": {},
   "outputs": [
    {
     "name": "stdout",
     "output_type": "stream",
     "text": [
      "ans =\n",
      "\n",
      "   26.6667   11.6667    5.6667\n",
      "   28.3333   13.3333    7.3333\n",
      "   29.0000   14.0000    8.0000\n",
      "\n"
     ]
    }
   ],
   "source": [
    "A + 2*A - A'/3"
   ]
  },
  {
   "cell_type": "code",
   "execution_count": 6,
   "id": "7f9d6db7-600a-4b36-a25f-992d4c0a8771",
   "metadata": {},
   "outputs": [
    {
     "name": "stdout",
     "output_type": "stream",
     "text": [
      "Enter a matrix: [1, 2, 3;2, 3, 1]\n",
      "B =\n",
      "\n",
      "   1   2   3\n",
      "   2   3   1\n",
      "\n"
     ]
    }
   ],
   "source": [
    "B = input(\"Enter a matrix: \")"
   ]
  },
  {
   "cell_type": "code",
   "execution_count": 9,
   "id": "0fb86674-728c-4ddc-a2ff-c1f9b06db130",
   "metadata": {},
   "outputs": [
    {
     "name": "stdout",
     "output_type": "stream",
     "text": [
      "ans =\n",
      "\n",
      "Diagonal Matrix\n",
      "\n",
      "   1\n",
      "   0\n",
      "\n"
     ]
    }
   ],
   "source": [
    "eye(size(B*A'))"
   ]
  },
  {
   "cell_type": "code",
   "execution_count": 13,
   "id": "b1df71ac-4d4c-4211-a0d7-e5c1428e3fbf",
   "metadata": {},
   "outputs": [
    {
     "name": "stdout",
     "output_type": "stream",
     "text": [
      "Variables visible from the current scope:\n",
      "\n",
      "variables in scope: top scope\n",
      "\n",
      "  Attr   Name        Size                     Bytes  Class\n",
      "  ====   ====        ====                     =====  ===== \n",
      "         A           1x3                         24  double\n",
      "         B           2x3                         48  double\n",
      "         ans         2x1                          8  double\n",
      "\n",
      "Total is 11 elements using 80 bytes\n",
      "\n"
     ]
    }
   ],
   "source": [
    "whos"
   ]
  },
  {
   "cell_type": "code",
   "execution_count": 14,
   "id": "4866c78c-a6eb-4bbe-805c-af0a493ecf80",
   "metadata": {},
   "outputs": [
    {
     "name": "stdout",
     "output_type": "stream",
     "text": [
      "ans =\n",
      "\n",
      "   10   10    9\n",
      "   20   15    3\n",
      "\n"
     ]
    }
   ],
   "source": [
    "A.*B"
   ]
  },
  {
   "cell_type": "code",
   "execution_count": null,
   "id": "263743a0-bc24-4e62-80d1-1ad29a498516",
   "metadata": {},
   "outputs": [],
   "source": []
  }
 ],
 "metadata": {
  "kernelspec": {
   "display_name": "Octave",
   "language": "octave",
   "name": "octave"
  },
  "language_info": {
   "file_extension": ".m",
   "help_links": [
    {
     "text": "GNU Octave",
     "url": "https://www.gnu.org/software/octave/support.html"
    },
    {
     "text": "Octave Kernel",
     "url": "https://github.com/Calysto/octave_kernel"
    },
    {
     "text": "MetaKernel Magics",
     "url": "https://metakernel.readthedocs.io/en/latest/source/README.html"
    }
   ],
   "mimetype": "text/x-octave",
   "name": "octave",
   "version": "7.2.0"
  },
  "vscode": {
   "interpreter": {
    "hash": "369f2c481f4da34e4445cda3fffd2e751bd1c4d706f27375911949ba6bb62e1c"
   }
  }
 },
 "nbformat": 4,
 "nbformat_minor": 5
}
