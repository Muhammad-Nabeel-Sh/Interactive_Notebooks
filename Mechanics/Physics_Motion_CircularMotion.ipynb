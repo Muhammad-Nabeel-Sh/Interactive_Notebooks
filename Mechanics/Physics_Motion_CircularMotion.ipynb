{
 "cells": [
  {
   "cell_type": "markdown",
   "metadata": {},
   "source": [
    "# Circular Motion  \n",
    "* The circle is a two-dimensional plane. However since motion is constrained to the circumference, it can be treated as motion in one dimension that is curved.  \n",
    "* $x(t)$ and $y(t)$ are no longer independent\n",
    "* Instead on using $x$ and $y$ axes, we could think of an axis bent around the circle (The $s$ axis)"
   ]
  },
  {
   "cell_type": "markdown",
   "metadata": {},
   "source": [
    "## Variables\n",
    "* $s(t)$ — Arc length\n",
    "* $\\theta (t)$ — Angle in radians between the position vector and $x$-axis\n",
    "* $\\omega (t)$ — Angular Velocity"
   ]
  },
  {
   "cell_type": "markdown",
   "metadata": {},
   "source": [
    "$$ x^2(t)+y^2(t)=R^2 $$\n",
    "$$ \\theta (t) = \\dfrac{s(t)}{R} \\implies s(t) = \\theta (t) \\cdot R $$\n",
    "$$ x(t) = R\\cos{(\\theta(t))} $$\n",
    "$$ y(t) = R\\sin{(\\theta(t))} $$\n",
    "$$ \\vec{r}(t) = \\begin{pmatrix} x(t) \\\\ y(t)    \\end{pmatrix} = R \\begin{pmatrix} \\cos{(\\theta(t))} \\\\ \\sin{(\\theta(t))}   \\end{pmatrix} $$\n",
    "$$ $$"
   ]
  },
  {
   "cell_type": "markdown",
   "metadata": {},
   "source": [
    "$$ \\begin{aligned}\n",
    "\\vec{v}(t) = \\dfrac{d}{dt} \\vec{r}(t) &= \\dfrac{d}{dt} R \\begin{pmatrix} \\cos{(\\theta(t))} \\\\ \\sin{(\\theta(t))}   \\end{pmatrix} \\\\ \\\\\n",
    "&= R \\begin{pmatrix} \\dfrac{d}{dt} \\cos{(\\theta(t))} \\\\ \\dfrac{d}{dt} \\sin{(\\theta(t))} \\end{pmatrix} \\\\ \\\\\n",
    "&= R \\begin{pmatrix} -\\sin{(\\theta(t))}\\frac{d \\theta}{dt} \\\\ \\\\ \\cos{(\\theta(t))}\\frac{d \\theta}{dt} \\end{pmatrix} \\\\\n",
    "\\end{aligned}\n",
    "$$"
   ]
  },
  {
   "cell_type": "markdown",
   "metadata": {},
   "source": [
    "$$ \n",
    "\\begin{aligned}\n",
    "v_x &= -R\\sin{(\\theta (t))} \\frac{d \\theta}{dt} \\\\ \\\\\n",
    "v_y &= R\\cos{(\\theta (t))} \\frac{d \\theta}{dt}\n",
    "\\end{aligned}\n",
    "$$"
   ]
  },
  {
   "cell_type": "markdown",
   "metadata": {},
   "source": [
    "$$ \n",
    "\\begin{aligned}\n",
    "||\\vec{v}|| &= \\sqrt{v_x^2 + v_y^2} \\\\ \\\\\n",
    "&= \\sqrt{\\left( -R\\sin{(\\theta (t))} \\frac{d \\theta}{dt} \\right)^2 + \\left( R\\cos{(\\theta (t))} \\frac{d \\theta}{dt} \\right)^2} \\\\ \\\\\n",
    "&= \\sqrt{R^2 \\left( \\frac{d \\theta}{dt} \\right)^2 [\\sin^2{\\theta (t)} + \\cos^2{\\theta (t)}]} \\\\ \\\\\n",
    "&= R \\left| \\frac{d \\theta}{dt} \\right|\n",
    "\\end{aligned} \n",
    "$$"
   ]
  },
  {
   "cell_type": "markdown",
   "metadata": {},
   "source": []
  },
  {
   "cell_type": "markdown",
   "metadata": {},
   "source": []
  },
  {
   "cell_type": "code",
   "execution_count": 2,
   "metadata": {},
   "outputs": [],
   "source": [
    "# Importing Libraries\n",
    "import numpy as np\n",
    "import pandas as pd\n",
    "import matplotlib.pyplot as plt\n",
    "import sympy as sp\n",
    "from IPython import display"
   ]
  },
  {
   "cell_type": "code",
   "execution_count": 10,
   "metadata": {},
   "outputs": [
    {
     "data": {
      "text/plain": [
       "'[2.   2.05 2.1  2.15 2.2  2.25 2.3  2.35 2.4  2.45 2.5  2.55 2.6  2.65\\n 2.7  2.75 2.8  2.85 2.9  2.95 3.   3.05 3.1  3.15 3.2  3.25 3.3  3.35\\n 3.4  3.45 3.5  3.55 3.6  3.65 3.7  3.75 3.8  3.85 3.9  3.95 4.   4.05\\n 4.1  4.15 4.2  4.25 4.3  4.35 4.4  4.45 4.5  4.55 4.6  4.65 4.7  4.75\\n 4.8  4.85 4.9  4.95]'"
      ]
     },
     "execution_count": 10,
     "metadata": {},
     "output_type": "execute_result"
    }
   ],
   "source": [
    "arr1 =np.arange(2,5,0.05)\n",
    "arr2 =np.round(np.rad2deg(arr1),decimals=3)"
   ]
  },
  {
   "cell_type": "code",
   "execution_count": null,
   "metadata": {},
   "outputs": [],
   "source": []
  }
 ],
 "metadata": {
  "kernelspec": {
   "display_name": "Python 3.10.6 64-bit",
   "language": "python",
   "name": "python3"
  },
  "language_info": {
   "codemirror_mode": {
    "name": "ipython",
    "version": 3
   },
   "file_extension": ".py",
   "mimetype": "text/x-python",
   "name": "python",
   "nbconvert_exporter": "python",
   "pygments_lexer": "ipython3",
   "version": "3.10.8"
  },
  "orig_nbformat": 4,
  "vscode": {
   "interpreter": {
    "hash": "369f2c481f4da34e4445cda3fffd2e751bd1c4d706f27375911949ba6bb62e1c"
   }
  }
 },
 "nbformat": 4,
 "nbformat_minor": 2
}
